{
 "cells": [
  {
   "attachments": {},
   "cell_type": "markdown",
   "id": "efd66d3b",
   "metadata": {},
   "source": [
    "# 3.1 `new` und `delete`\n",
    "\n",
    "In diesem ersten Aufgabenteil sollen sie einmal den Aufruf von `new` und `delete` praktisch umsetzen.\n",
    "Ziel ist es dabei auch den Unterschied von Stack und Heap Speicher noch einmal zu verdeutlichen.\n",
    "\n",
    "## Aufgabe A: Wiederholung `struct`\n",
    "\n",
    "<div class=\"alert alert-warning\">\n",
    "<b>ToDo</b>: \n",
    "\n",
    "Als erstes sollen sie hierfür wieder eine `struct` umsetzen (siehe Aufgabe 2.2 und als Hilfe: [Structs](https://cppvorlesung.wwu.de/lecture/language/statements.html#structs) ).\n",
    "\n",
    "</div>\n",
    "\n",
    "In diesem Beispiel wird ein Struct `Point` erstellt, das lediglich zwei Felder enthält: Die x- und y-Komponenten eines Punktes in 2D."
   ]
  },
  {
   "cell_type": "code",
   "execution_count": null,
   "id": "0906b810",
   "metadata": {
    "vscode": {
     "languageId": "plaintext"
    }
   },
   "outputs": [],
   "source": [
    "#include <iostream>\n",
    "#include <ctime>\n",
    "\n",
    "// TODO: Definition der Struct für point\n",
    "// Recap: Implementieren sie eine einfache struct\n",
    "// Diese soll einen Point wiedergeben, bestehend aus x, y"
   ]
  },
  {
   "cell_type": "code",
   "execution_count": null,
   "id": "d451525c",
   "metadata": {
    "tags": [
     "hide-cell"
    ],
    "vscode": {
     "languageId": "plaintext"
    }
   },
   "outputs": [],
   "source": [
    "#include <iostream>\n",
    "#include <ctime>\n",
    "\n",
    "// Recap: Implementieren sie eine einfache struct\n",
    "// Diese soll einen Point wiedergeben, bestehend aus x, y\n",
    "struct Point { \n",
    "    float x, y;\n",
    "}; "
   ]
  },
  {
   "attachments": {},
   "cell_type": "markdown",
   "id": "137a935b",
   "metadata": {},
   "source": [
    "## Aufgabe B: Anlegen von Speicher für die Struct\n",
    "\n",
    "Im zweiten Teil soll nun jeweils einmal auf dem Stack und einmal auf dem Heap Speicher für eine solche struct angelegt werden. Dabei wollen wir die verschiedenen Zeiten für die Speicherverwaltung (statisch auf dem Stack im Vergleich zu dynamisch auf dem Heap) messen. Hierfür wiederholen wir jeweils die Erzeugung (und Entfernung) von entsprechenden Variablen.\n",
    "\n",
    "<div class=\"alert alert-warning\">\n",
    "<b>ToDo</b>: Erzeugen sie jeweils ein Element des structs. Zum einen statisch auf dem Stack (wie bisher auch einfach durch Angabe des Typs) -- zum anderen explizit durch Verwendung von `new`.\n",
    "</div>"
   ]
  },
  {
   "cell_type": "code",
   "execution_count": null,
   "id": "6fb37ac8",
   "metadata": {
    "vscode": {
     "languageId": "plaintext"
    }
   },
   "outputs": [],
   "source": [
    "int main() {\n",
    "    // Fuer den Vergleich: wir erzeugen den Point NUM-mal hintereinander.\n",
    "    int NUM = 10000000;\n",
    "    std::clock_t start = std::clock();\n",
    "    for (int i = 0;i<NUM;++i){\n",
    "        // TODO: Einfaches erzeugen einer Variablen des Typ points.\n",
    "    }\n",
    "    std::clock_t dt = std::clock() - start;    \n",
    "    std::cout << \"Stack Time \" << float(dt)/CLOCKS_PER_SEC << \" sec\\n\";\n",
    "\n",
    "    start = std::clock(); \n",
    "    // TODO: Analog zu oben sollen sie eine Schleife aufsetzen und darin\n",
    "    // explizit fuer einen Point Speicher reservieren (und dann wieder freigeben).\n",
    "    dt = std::clock() - start;\n",
    "    std::cout << \"Heap Time \" << float(dt)/CLOCKS_PER_SEC << \" sec\\n\"; \n",
    "}"
   ]
  },
  {
   "cell_type": "code",
   "execution_count": null,
   "id": "7b58db70",
   "metadata": {
    "tags": [
     "hide-cell"
    ],
    "vscode": {
     "languageId": "plaintext"
    }
   },
   "outputs": [],
   "source": [
    "int main() {\n",
    "    int NUM = 10000000;\n",
    "    std::clock_t start = std::clock();\n",
    "    for (int i = 0;i<NUM;++i){\n",
    "        Point p;\n",
    "    }\n",
    "    std::clock_t dt = std::clock() - start;    \n",
    "    std::cout << \"Stack Time \" << float(dt)/CLOCKS_PER_SEC << \" sec\\n\";\n",
    "\n",
    "    start = std::clock(); \n",
    "    for(int i = 0; i<NUM; ++i) {\n",
    "        Point *p = new Point;\n",
    "        delete p;\n",
    "    };\n",
    "    dt = std::clock() - start;\n",
    "    std::cout << \"Heap Time \" << float(dt)/CLOCKS_PER_SEC << \" sec\\n\"; \n",
    "}"
   ]
  },
  {
   "cell_type": "code",
   "execution_count": null,
   "id": "7aac6eb1",
   "metadata": {
    "vscode": {
     "languageId": "plaintext"
    }
   },
   "outputs": [],
   "source": [
    "main();"
   ]
  },
  {
   "attachments": {},
   "cell_type": "markdown",
   "id": "772666b3",
   "metadata": {},
   "source": [
    "## Beobachtungen\n",
    "\n",
    "Welche Zugriffszeiten haben sie beobachtet für die beiden verschiedenen Varianten?\n",
    "\n",
    "Fragen zur Vertiefung und Diskussion (im Plenum):\n",
    "\n",
    "* Was haben sie beobachtet?\n",
    "* Wie erklären sie sich die unterschiedlichen Laufzeiten?\n",
    "* Lesen sie noch einmal die Unterschiede zwischen Stack und Heap nach -- warum können wir nicht immer den Stack benutzen und wollen manchmal dynamische Speicherverwaltung einsetzen?\n",
    "* Wofür steht das \"dynamisch\" hier?"
   ]
  },
  {
   "attachments": {},
   "cell_type": "markdown",
   "id": "b23ae081",
   "metadata": {},
   "source": [
    "## Aufgabe C (optional)\n",
    "\n",
    "<div class=\"alert alert-warning\">\n",
    "<b>ToDo</b>: \n",
    "\n",
    "Erzeugen sie nun jeweils einen Array (variieren sie dessen Größe dabei auch in verschiedenen Durchläufen).\n",
    "\n",
    "</div>\n",
    "\n",
    "\n",
    "* Wie verändern sich die Laufzeiten und ihre Beobachtungen?\n",
    "* Was müssen sie zusätzlich bei der expliziten Erzeugung anpassen (sie sollten den Speicher unbedingt auch wieder freigegeben haben)?\n",
    "\n",
    "Falls sie noch weiter Zeit haben, können sie hier auch das bisherige struct aus der zweiten Vorlesung einmal einsetzen und dies wiederholen:"
   ]
  },
  {
   "cell_type": "code",
   "execution_count": null,
   "id": "7f110cad",
   "metadata": {
    "tags": [
     "hide-cell"
    ],
    "vscode": {
     "languageId": "plaintext"
    }
   },
   "outputs": [],
   "source": [
    "int main() {\n",
    "    int NUM = 10000000;\n",
    "    std::clock_t start = std::clock();\n",
    "    for (int i = 0;i<NUM;++i){\n",
    "        Point p[1000];\n",
    "    }\n",
    "    std::clock_t dt = std::clock() - start;    \n",
    "    std::cout << \"Stack Time \" << float(dt)/CLOCKS_PER_SEC << \" sec\\n\";\n",
    "\n",
    "    start = std::clock(); \n",
    "    for(int i = 0; i<NUM; ++i) {\n",
    "        Point *p = new Point[1000];\n",
    "        delete[] p;\n",
    "    };\n",
    "    dt = std::clock() - start;\n",
    "    std::cout << \"Heap Time \" << float(dt)/CLOCKS_PER_SEC << \" sec\\n\"; \n",
    "}"
   ]
  },
  {
   "cell_type": "code",
   "execution_count": null,
   "id": "1a8cbab7",
   "metadata": {
    "vscode": {
     "languageId": "plaintext"
    }
   },
   "outputs": [],
   "source": [
    "#include <iostream>\n",
    "#include <string>\n",
    "#include <chrono>\n",
    "\n",
    "// Define a struct to represent a date\n",
    "struct Date\n",
    "{\n",
    "    int day;\n",
    "    int month;\n",
    "    int year;\n",
    "};\n",
    "\n",
    "// Define a struct to represent a student\n",
    "struct Student\n",
    "{\n",
    "    std::string name;\n",
    "    Date birthday; // Changed age field to birthday field of type Date\n",
    "    int studentID;\n",
    "};"
   ]
  }
 ],
 "metadata": {
  "kernelspec": {
   "display_name": "C++17",
   "language": "C++17",
   "name": "xcpp17"
  },
  "language_info": {
   "codemirror_mode": "text/x-c++src",
   "file_extension": ".cpp",
   "mimetype": "text/x-c++src",
   "name": "c++",
   "version": "17"
  }
 },
 "nbformat": 4,
 "nbformat_minor": 5
}
