{
 "cells": [
  {
   "attachments": {},
   "cell_type": "markdown",
   "id": "efd66d3b",
   "metadata": {},
   "source": [
    "# Nutzen einer Map als Repräsentation von Daten \n",
    "\n",
    "## Anpassen der Studierenden-Datenbank\n",
    "\n",
    "In Aufgabe 2.2 haben sie eine Struct `Student` erstellt, die diese drei Felder enthält: \n",
    "\n",
    "* `name` für den Namen des Studierenden, \n",
    "* `age` für das Alter des Studierenden und \n",
    "* `studentID` für die `ID` des Studierenden. \n",
    "\n",
    "Davon wurden zwei Studierenden-Instanzen erstellt und ihre Felder initialisiert. "
   ]
  },
  {
   "cell_type": "markdown",
   "id": "3ad71d02",
   "metadata": {},
   "source": [
    "Es kann dazu im Notebook direkt auf die Hilfsseiten der STL zugegriffen werden über `?Begrif``, zum Beispiel\n",
    "\n",
    "`?std::map`\n",
    "\n",
    "Dies öffnet die Informationen direkt aus dem Netz (und kann daher ein paar Sekunden benötigen). "
   ]
  },
  {
   "cell_type": "code",
   "execution_count": null,
   "id": "60dd77b1",
   "metadata": {
    "vscode": {
     "languageId": "plaintext"
    }
   },
   "outputs": [],
   "source": [
    "?std::map"
   ]
  },
  {
   "attachments": {},
   "cell_type": "markdown",
   "id": "772666b3",
   "metadata": {},
   "source": [
    "## Aufgabe: Ablegen in einer Map\n",
    "\n",
    "<div class=\"alert alert-warning\">\n",
    "<b>ToDo</b>: Ihre Aufgabe ist nun, dies in einer `map` abzulegen. Nutzen sie hierfür zuerst einfach eine Map mit dem String `name` als key und dem int `age` als value. Passen sie diese dann so an, dass für den Value ein entsprechendes struct genutzt wird. Geben sie die Informationen der Studierenden mit Hilfe von `std::cout` auf der Konsole aus, indem sie über die map in einer for-Schleife iterieren.\n",
    "\n",
    "</div>"
   ]
  },
  {
   "cell_type": "code",
   "execution_count": null,
   "id": "0906b810",
   "metadata": {
    "vscode": {
     "languageId": "plaintext"
    }
   },
   "outputs": [],
   "source": [
    "#include <iostream>\n",
    "#include <map>\n",
    "#include <string>\n",
    "\n",
    "// Definition des Studierenden-Structs\n",
    "struct Student\n",
    "{\n",
    "    std::string name; // Name des Studierenden\n",
    "    int age;        // Alter des Studierenden\n",
    "    int studentID;    // ID des Studierenden\n",
    "};"
   ]
  },
  {
   "cell_type": "code",
   "execution_count": null,
   "id": "6fb37ac8",
   "metadata": {
    "vscode": {
     "languageId": "plaintext"
    }
   },
   "outputs": [],
   "source": [
    "int main()\n",
    "{\n",
    "    // Erstellung von Studierenden-Instanzen\n",
    "    Student student1; // Erstellung einer Studierenden-Instanz mit Namen student1\n",
    "    Student student2; // Erstellung einer weiteren Studierenden-Instanz mit Namen student2\n",
    "\n",
    "    // Initialisierung der Felder der Studierenden-Instanzen\n",
    "    student1.name = \"Alice\";\n",
    "    student1.age = 21;\n",
    "    student1.studentID = 12345;\n",
    "\n",
    "    student2.name = \"Bob\";\n",
    "    student2.age = 20;\n",
    "    student2.studentID = 67890;\n",
    "\n",
    "    // Erstellung der Map als Studierenden-Datenbank\n",
    "    std::map<std::string, int> studentDB;\n",
    "\n",
    "    // Hinzufügen von Studierenden in die Map\n",
    "    studentDB[student1.name] = student1.age;\n",
    "    studentDB[student2.name] = student2.age;\n",
    "\n",
    "    // Ausgabe der Informationen der Studierenden aus der Map\n",
    "    for (const auto &entry : studentDB)\n",
    "    {\n",
    "        std::cout << \"Name: \" << entry.first << \", Alter: \" << entry.second << \" Jahre\" << std::endl;\n",
    "    }\n",
    "\n",
    "    return 0;\n",
    "}"
   ]
  },
  {
   "cell_type": "code",
   "execution_count": null,
   "id": "7aac6eb1",
   "metadata": {
    "vscode": {
     "languageId": "plaintext"
    }
   },
   "outputs": [],
   "source": [
    "main();"
   ]
  }
 ],
 "metadata": {
  "kernelspec": {
   "display_name": "C++17",
   "language": "C++17",
   "name": "xcpp17"
  },
  "language_info": {
   "codemirror_mode": "text/x-c++src",
   "file_extension": ".cpp",
   "mimetype": "text/x-c++src",
   "name": "c++",
   "version": "17"
  }
 },
 "nbformat": 4,
 "nbformat_minor": 5
}
