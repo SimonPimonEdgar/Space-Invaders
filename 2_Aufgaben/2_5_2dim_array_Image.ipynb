{
 "cells": [
  {
   "attachments": {},
   "cell_type": "markdown",
   "id": "efd66d3b",
   "metadata": {},
   "source": [
    "# 2.5 (Zusatz) 2-dim Array -- Image bearbeiten\n",
    "\n",
    "In der Erweiterung des vorherigen Beispiels wird hier ein Bild in den Speicher geladen wird. Als Nutzer und Programmierer abstrahieren wir ein Bild als zwei-dimensionales Feld von Pixeln (bzw. mehr-dimensional wenn wir vers. Farbwerte betrachten). Im Speicher wird dies aber als ein großer 1-dimensionaler Array angelegt.\n",
    "\n",
    "Im folgenden wird dazu eine Hilfsfunktion eingeführt zum öffnen eines Bildes aus einem BMP Format. Um das eingelesene Bild dann zu speichern oder das angepasste Bild zu speichern, werden externe Header benötigt. Dafür liegt in dem [gitlab](https://zivgitlab.uni-muenster.de/schillma/cppcourse) eine CPP Version zum lokalen kompilieren, mit der sie dies testen können (`2_5_2dim_Image.cpp`)."
   ]
  },
  {
   "cell_type": "code",
   "execution_count": null,
   "id": "0e3699c3",
   "metadata": {
    "vscode": {
     "languageId": "plaintext"
    }
   },
   "outputs": [],
   "source": [
    "#include <iostream>\n",
    "#include <fstream>"
   ]
  },
  {
   "cell_type": "code",
   "execution_count": null,
   "id": "da5afa69",
   "metadata": {
    "vscode": {
     "languageId": "plaintext"
    }
   },
   "outputs": [],
   "source": [
    "void loadBMPImage(const char* file_name, unsigned char**& image, int& width, int& height)\n",
    "{\n",
    "    // Open the BMP image file in binary mode\n",
    "    std::ifstream file(file_name, std::ios::binary);\n",
    "\n",
    "    if (!file)\n",
    "    {\n",
    "        std::cout << \"Failed to open \" << file_name << std::endl;\n",
    "        return;\n",
    "    }\n",
    "\n",
    "    // Read the header of the BMP image file (54 bytes)\n",
    "    char header[54];\n",
    "    file.read(header, 54);\n",
    "\n",
    "    // Extract the width and height of the image from the header\n",
    "    width = *(int*)&header[18];\n",
    "    height = *(int*)&header[22];\n",
    "\n",
    "    // Calculate the number of padding bytes per row\n",
    "    int padding = 0;\n",
    "    while ((width + padding) % 4 != 0)\n",
    "    {\n",
    "        padding++;\n",
    "    }\n",
    "\n",
    "    // Calculate the total size of the image data in bytes\n",
    "    int data_size = (width + padding) * height;\n",
    "\n",
    "    // Allocate memory to store the image data\n",
    "    unsigned char* data = new unsigned char[data_size];\n",
    "\n",
    "    // Read the image data from the file into the data buffer\n",
    "    file.read(reinterpret_cast<char*>(data), data_size);\n",
    "\n",
    "    // Close the BMP image file\n",
    "    file.close();\n",
    "\n",
    "    // Create a 2D array to store the image data\n",
    "    image = new unsigned char*[height];\n",
    "    for (int y = 0; y < height; ++y)\n",
    "    {\n",
    "        image[y] = &data[(width + padding) * y];\n",
    "    }\n",
    "}"
   ]
  },
  {
   "attachments": {},
   "cell_type": "markdown",
   "id": "8c2337b6",
   "metadata": {},
   "source": [
    "<div class=\"alert alert-warning\">\n",
    "\n",
    "<b>ToDo</b>: \n",
    "\n",
    "* Implementieren sie eine Funktion, die den mittleren Graustufenwert über dem Bild berechnet. \n",
    "* Im Beispiel ist dies Bild sehr dunkel. Wie können sie dies aufhellen? Erweitern sie den Code entsprechend: Passen sie den Code so an, dass sie die Werte des Bildes im Array sinnvoll aufhellen (den Wertebereich auf das ganze Spektrum für Grauwerte von 0 bis 255 ausdehnen).\n",
    "\n",
    "</div>"
   ]
  },
  {
   "cell_type": "code",
   "execution_count": null,
   "id": "5b473839",
   "metadata": {
    "vscode": {
     "languageId": "plaintext"
    }
   },
   "outputs": [],
   "source": [
    "// Function to calculate the mean grayscale value of an image\n",
    "double calculateMeanGrayscaleValue2d(unsigned char** image, int width, int height);\n",
    "// TODO: implement"
   ]
  },
  {
   "cell_type": "code",
   "execution_count": null,
   "id": "a0d5b55c",
   "metadata": {
    "vscode": {
     "languageId": "plaintext"
    }
   },
   "outputs": [],
   "source": [
    "int main()\n",
    "{\n",
    "    const char* file_name = \"marie_darkened.bmp\";\n",
    "    unsigned char** image = nullptr;\n",
    "    int width = 0;\n",
    "    int height = 0;\n",
    "\n",
    "    loadBMPImage(file_name, image, width, height);\n",
    "\n",
    "    // Calculate the mean grayscale value of the image\n",
    "    double mean = calculateMeanGrayscaleValue2d(image, width, height);\n",
    "\n",
    "    // TODO: adjust grayscale values to full range of 0 to 255.\n",
    "\n",
    "    // Clean up memory\n",
    "    delete[] image;\n",
    "    return 0;\n",
    "}"
   ]
  }
 ],
 "metadata": {
  "kernelspec": {
   "display_name": "C++17",
   "language": "C++17",
   "name": "xcpp17"
  },
  "language_info": {
   "codemirror_mode": "text/x-c++src",
   "file_extension": ".cpp",
   "mimetype": "text/x-c++src",
   "name": "c++",
   "version": "17"
  }
 },
 "nbformat": 4,
 "nbformat_minor": 5
}
