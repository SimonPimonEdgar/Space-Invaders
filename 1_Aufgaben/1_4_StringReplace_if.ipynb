{
 "cells": [
  {
   "attachments": {},
   "cell_type": "markdown",
   "id": "efd66d3b",
   "metadata": {},
   "source": [
    "# 1.4 If Anweisung \n",
    "\n",
    "## Strings\n",
    "\n",
    "In C gibt es keinen Datentyp String.\n",
    "\n",
    "* Strings werden als Arrays vom Typ char realisiert.\n",
    "* Das Ende eines Strings wird durch das (Steuer-)Zeichen `\\0` angegeben. Beispiel: Der String \"hello\" entspricht `{’h’, ’e’, ’l’, ’l’, ’o’, ’\\0’}`\n",
    "* Umständlich! $\\Leftrightarrow$ Kurzschreibweise: `char s[] = \"hello\";` statt\n",
    "`char s[] = {’h’, ’e’, ’l’, ’l’, ’o’, ’\\0’};`\n",
    "\n",
    "## Aufgabe: Strings\n",
    "\n",
    "Ersetzen Sie jedes Vorkommen eines Leerzeichens im String `s` durch einen Unterstrich. Nutzen Sie hierfür eine `while`-Schleife und eine `if` Abfrage. Als Hilfe: [Vergleichsoperatoren](https://cppvorlesung.wwu.de/lecture/language/expressions.html), [Kontrollstrukturen](https://cppvorlesung.wwu.de/lecture/language/statements.html#control-structures).\n",
    "\n"
   ]
  },
  {
   "cell_type": "code",
   "execution_count": null,
   "id": "0906b810",
   "metadata": {
    "vscode": {
     "languageId": "plaintext"
    }
   },
   "outputs": [],
   "source": [
    "#include <iostream>\n",
    "\n",
    "int main () {\n",
    "    char s[] = \"In C, string literals are of type char[], and can be assigned directly to a (non-const) char*.\";\n",
    "    \n",
    "    // Ersetzen Sie in s jedes Leerzeichen durch ’_’\n",
    "    // TODO\n",
    "\n",
    "    std::cout << s << std::endl; \n",
    "}"
   ]
  },
  {
   "cell_type": "code",
   "execution_count": null,
   "id": "58459cb7",
   "metadata": {
    "vscode": {
     "languageId": "plaintext"
    }
   },
   "outputs": [],
   "source": [
    "main()"
   ]
  },
  {
   "attachments": {},
   "cell_type": "markdown",
   "id": "e92c3003",
   "metadata": {},
   "source": [
    "Lösungsbeispiel findet sich im [Jupyter-Book](https://www.uni-muenster.de/AISystems/courses/CPP/site/html/intro.html)."
   ]
  },
  {
   "cell_type": "code",
   "execution_count": null,
   "id": "805dc124",
   "metadata": {
    "tags": [],
    "vscode": {
     "languageId": "plaintext"
    }
   },
   "outputs": [],
   "source": [
    "main()"
   ]
  }
 ],
 "metadata": {
  "kernelspec": {
   "display_name": "C++17",
   "language": "C++17",
   "name": "xcpp17"
  },
  "language_info": {
   "codemirror_mode": "text/x-c++src",
   "file_extension": ".cpp",
   "mimetype": "text/x-c++src",
   "name": "c++",
   "version": "17"
  }
 },
 "nbformat": 4,
 "nbformat_minor": 5
}
