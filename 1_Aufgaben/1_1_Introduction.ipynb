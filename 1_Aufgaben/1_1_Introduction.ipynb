{
 "cells": [
  {
   "attachments": {},
   "cell_type": "markdown",
   "id": "88726581-1895-47a2-82cb-3be74de74e54",
   "metadata": {
    "tags": []
   },
   "source": [
    "# Aufgaben Notebook 1\n",
    "\n",
    "Für die ersten Termine des Kurses nutzen wir jupyter-Notebooks, um C++ als interpretierten Code direkt im Browser laufen zu lassen. Dadurch entfallen natürlich die Optimierungsvorteile von C++ durch Kompilierung etc. Dies erlaubt aber so einen schnellen einfachen Einstieg. Die Umsetzung erfolgt über [Xeus-Cling](https://xeus-cling.readthedocs.io/en/latest/) und wir nutzen hierbei für diese allgemeinen Features einfach den C++17 Standard.\n",
    "\n",
    "Wichtig: Es gibt zwei Dinge, die zusätzlich dabei zu beachten sind:\n",
    "\n",
    "* Interpretieren eines Codeblocks im Notebook: `Shift` + `Enter` gleichzeitig drücken\n",
    "* Die `main`-Methode muss explizit aufgerufen werden.\n",
    "\n",
    "Dies Notebook kann auf dem JupyterHub der Universität direkt gestartet werden unter diesem [link](\"https://jupyterhub.wwu.de/hub/user-redirect/git-pull?repo=https%3A%2F%2Fzivgitlab.uni-muenster.de%2Fschillma%2Fcppcourse&urlpath=lab%2Ftree%2Fcppcourse%2F&branch=main\") -- dabei muss das \"Software Development\" Image (3.0.1) ausgewählt werden.\n"
   ]
  },
  {
   "attachments": {},
   "cell_type": "markdown",
   "id": "0d815beb",
   "metadata": {},
   "source": [
    "## Jupyter notebooks\n",
    "\n",
    "Was sind Jupyter-Notebooks? Im Grunde ist die Verwendung von Jupyter-Notebooks vergleichbar mit der Verwendung eines Webbrowsers als eine Art Editor, mit dem sie Code direkt ausführen können. Wie bei jedem Editor wird der Code in Jupyter-Notebooks von C++ (oder meist Python) auf Ihrem Computer (oder auf einem entfernten Server) interpretiert und ausgeführt, und die Ergebnisse werden zur Anzeige zurückgegeben.\n",
    "\n",
    "So ermöglichen Notebooks, dass Code-\"Zellen\" und Text-\"Zellen\" (wie diese hier) miteinander gemischt werden können. Die (gedruckten) Ausgaben von Codeblöcken werden direkt unter den Codeblöcken selbst angezeigt. \n",
    "\n",
    "Jupyter-Notebooks haben zwei *Modi*: den Bearbeitungsmodus und den Befehlsmodus.\n",
    "\n",
    "* Der *Befehlsmodus* wird durch einen grauen Zellenrand mit einem blauen linken Rand angezeigt: Im Befehlsmodus können Sie das Notebook als Ganzes bearbeiten, aber nicht in einzelne Zellen tippen. Entscheidend im Befehlsmodus: über Shortcuts können sie das Notebook direkt ausführen und effizient Aktionen anwenden. Über **Esc** gelangen sie in den Modus oder wenn sie mit der Maus ausserhalb einer Zelle klicken.\n",
    "* Der *Bearbeitungsmodus* wird durch einen grünen Zellrand und eine Eingabeaufforderung im Editorbereich angezeigt: Wenn sich eine Zelle im Bearbeitungsmodus befindet, können sie wie in einem normalen Texteditor in die Zelle schreiben. Sie können den Bearbeitungsmodus aktivieren, indem Sie die Eingabetaste drücken oder mit der Maus auf den Editorbereich einer Zelle doppelklicken.\n",
    "\n",
    "Wenn sie die Tutorials lesen und durchblättern, werden sie sich meistens im Befehlsmodus befinden. Sobald sie aber selbst etwas programmieren (oder schreiben) müssen, müssen Sie in den Bearbeitungsmodus wechseln. Zunächst werden wir etwas über die beiden Arten von Zellen erklären: Codezellen und Textzellen."
   ]
  },
  {
   "attachments": {},
   "cell_type": "markdown",
   "id": "d2f481df",
   "metadata": {},
   "source": [
    "### Code-Zellen\n",
    "\n",
    "Codezellen sind der Platz, an dem sie Ihren Code schreiben können. Im Gegensatz zu interaktiven Editoren wie RStudio und MATLAB kann eine Codezelle in Jupyter-Notebooks nur auf einmal ausgeführt werden. Das bedeutet, dass sie sie nicht Zeile für Zeile ausführen können, sondern dass sie die gesamte Zelle ausführen müssen!\n",
    "\n",
    "#### Zellen ausführen\n",
    "\n",
    "Als Beispiel: Unten sehen sie eine Code-Zelle mit mit einer Ausgabe-Anweisung. Um die Zelle auszuführen, markieren sie diese (d.h. die Zelle sollte einen grünen oder blauen Rahmen haben; es spielt keine Rolle, ob Sie sich im Bearbeitungs- oder im Befehlsmodus befinden), und klicken Sie auf das \"&#9654; Ausführen\"-Symbol oder drücken Sie `ctr+Enter`). Probieren sie dies mit den nächsten beiden Zellen unten! Für C++ muss hier jeweils noch explizit die `main` Methode aufgerufen werden, da C++ an sich nicht eine interpretierte Sprache ist."
   ]
  },
  {
   "cell_type": "code",
   "execution_count": 4,
   "id": "fb60f57d-ed1a-4b81-819c-5fb6fc69fc72",
   "metadata": {
    "tags": []
   },
   "outputs": [],
   "source": [
    "#include <iostream>\n",
    "\n",
    "int main() {\n",
    "    std::cout << \"Hello World!\";\n",
    "    return 0;\n",
    "}"
   ]
  },
  {
   "cell_type": "code",
   "execution_count": 6,
   "id": "e48bc183-a379-4bb5-b279-146a87a2ff42",
   "metadata": {
    "tags": []
   },
   "outputs": [
    {
     "name": "stdout",
     "output_type": "stream",
     "text": [
      "Hello World!"
     ]
    },
    {
     "data": {
      "text/plain": [
       "0"
      ]
     },
     "execution_count": 6,
     "metadata": {},
     "output_type": "execute_result"
    }
   ],
   "source": [
    "// In addition, we have to explicitly call the main() function instead of executing the program.\n",
    "main();\n",
    "// It is important that you compute these two cells in the correct order!"
   ]
  },
  {
   "attachments": {},
   "cell_type": "markdown",
   "id": "d3cc2239",
   "metadata": {},
   "source": [
    "#### Ausführung von Zellen stoppen\n",
    "\n",
    "Wenn sie die Ausführung einer Code-Zelle beenden wollen, weil sie zu lange dauert (oder schlimmer noch, sie haben eine Endlosschleife erzeugt!): Klicken Sie dazu auf das Stop-Symbol &#9632; im oberen Menü!"
   ]
  },
  {
   "attachments": {},
   "cell_type": "markdown",
   "id": "699fd9ba",
   "metadata": {},
   "source": [
    "#### Neustart des Kernels\n",
    "\n",
    "Manchmal stürzt ein Notebook ab, z. B. wenn eine Endlosschleife entsteht oder wenn zu viele Daten geladen werden. Sie wissen, dass Ihr Notebook 'abgestürzt' ist, wenn das Anhalten der Zelle (&#9632;) nicht funktioniert und Ihre Zelle ihre Ausführung fortsetzt, was durch die Eingabeaufforderung `In [*]:` neben der Zelle angezeigt wird. In solchen Fällen müssen Sie das Notebook komplett neu starten (Sie müssen den \"Kernel neu starten\"). Dazu klicken Sie auf `Kernel` und `Neustart`.\n",
    "\n",
    "Wichtig ist, dass beim Neustart des Kernels der gesamte Text/Code, den Sie geschrieben haben, erhalten bleibt, aber er merkt sich **nicht** alle Variablen, die Sie vor dem Neustart des Kernels definiert haben."
   ]
  },
  {
   "attachments": {},
   "cell_type": "markdown",
   "id": "ee20b3a0",
   "metadata": {},
   "source": [
    "#### Zellen einfügen\n",
    "\n",
    "Wie oben gesehen, können Sie nur die gesamte Zelle ausführen. Manchmal möchten Sie natürlich den Code über mehrere Zellen hinweg organisieren. Dazu können Sie einfach neue Blöcke (Zellen) einfügen, indem Sie in der Symbolleiste \"Einfügen &rarr; Zelle darunter einfügen\" wählen (oder das Tastenkürzel verwenden, indem Sie im Befehlsmodus die Taste \"B\" drücken; \"B\" steht für \"**b**unten\"). Dadurch wird eine neue Codezelle unterhalb der markierten Zelle eingefügt (die markierte Zelle ist mit einem blauen Rahmen umgeben)."
   ]
  },
  {
   "attachments": {},
   "cell_type": "markdown",
   "id": "47783af7",
   "metadata": {},
   "source": [
    "## Hilfe zu C++\n",
    "\n",
    "Sie können direkt in Codezellen auch auf die Referenz für die Standard-Library zu C++ zugreifen, in dem sie einfach ein Fragezeichen gefolgt von dem entsprechenden Begriff angeben:\n",
    "\n",
    "`?std::vector` schlägt in der Referenz zu `vector` nach (dies dauert ein paar Sekunden)."
   ]
  },
  {
   "attachments": {},
   "cell_type": "markdown",
   "id": "5d569810",
   "metadata": {},
   "source": [
    "# Ausgabe Datentypen\n",
    "\n",
    "Geben Sie die Größe der folgenden Datentypen auf Ihrem System aus: • char\n",
    "\n",
    "* short\n",
    "* int\n",
    "* long\n",
    "* long long\n",
    "* float\n",
    "* double\n",
    "* long double\n",
    "\n",
    "Nutzen Sie den sizeof-Operator.\n",
    "\n",
    "## Ausgabe mit printf in C\n",
    "\n",
    "Wie gibt man den Wert einer Zahl n aus?\n",
    "\n",
    "* Der Ausgabe-String der printf-Funktion darf Platzhalter enthalten, z. B. `%i`\n",
    "für Integer-Typen und `%f` für Fließkommazahlen.\n",
    "* Die Platzhalter werden durch zusätzliche Argumente von printf ersetzt. "
   ]
  },
  {
   "cell_type": "code",
   "execution_count": null,
   "id": "78918530",
   "metadata": {
    "vscode": {
     "languageId": "plaintext"
    }
   },
   "outputs": [],
   "source": [
    "printf(\"Ein Integer: %i. Eine Fließkommazahl: %f.\", 10, 5.2);\n"
   ]
  },
  {
   "attachments": {},
   "cell_type": "markdown",
   "id": "089f6ac3",
   "metadata": {},
   "source": [
    "# Kontrollfluss"
   ]
  },
  {
   "attachments": {},
   "cell_type": "markdown",
   "id": "1f47cf69",
   "metadata": {},
   "source": [
    "# Boolean in C, C++\n",
    "\n",
    "In C gibt es erst seit dem C99-Standard einen Boolean-Datentyp (_Bool).\n",
    "Nach Einbinden von stdbool.h lässt sich _Bool als bool schreiben."
   ]
  },
  {
   "cell_type": "code",
   "execution_count": null,
   "id": "22eb5bf6",
   "metadata": {
    "vscode": {
     "languageId": "plaintext"
    }
   },
   "outputs": [],
   "source": [
    "int x = 0;\n",
    "int y = 1;\n",
    "if(x=y)\n",
    "    printf(\"a\");\n",
    "else\n",
    "    printf(\"b\");"
   ]
  },
  {
   "attachments": {},
   "cell_type": "markdown",
   "id": "63d337c0-e116-4d5f-b175-d21f203c549b",
   "metadata": {},
   "source": [
    "## Zugriff auf Hilfe zur Standard-Library"
   ]
  },
  {
   "attachments": {},
   "cell_type": "markdown",
   "id": "53686316",
   "metadata": {},
   "source": [
    "Es kann dazu im Notebook direkt auf die Hilfsseiten der STL zugegriffen werden über `?Begrif``, zum Beispiel\n",
    "\n",
    "`?std::vector`\n",
    "\n",
    "Dies öffnet die Informationen direkt aus dem Netz (und kann daher ein paar Sekunden benötigen). "
   ]
  },
  {
   "cell_type": "code",
   "execution_count": null,
   "id": "02016f07",
   "metadata": {
    "vscode": {
     "languageId": "plaintext"
    }
   },
   "outputs": [],
   "source": [
    "?std::vector"
   ]
  },
  {
   "attachments": {},
   "cell_type": "markdown",
   "id": "e0919531",
   "metadata": {},
   "source": [
    "# Arrays\n",
    "\n",
    "Definition: `int data1[42];`\n",
    "\n",
    "Statt der expliziten Größenangabe kann ein Array implizit mit einer Initialisierungsliste definiert werden:\n",
    "`int data2[] = {1, 2, 3, 44, 55, 110};`\n",
    "\n",
    "Zugriff auf Elemente:\n",
    "`int a = data2[0]; // a == 1`\n",
    "`data2 [1] = a;`\n",
    "\n",
    "**Achtung:* Keine Exception bei unerlaubtem Zugriff wie z.B. `data2[6] = 24;`\n",
    "\n",
    "Es gibt keine Funktion `array_name.length()!` Die Länge eines Arrays muss separat gespeichert/an Funktionen übergeben werden (Die Anzahl der Elemente eines Arrays `a` kann zwar mit `sizeof(a)`/`sizeof(a[0])` ermittelt werden, nicht jedoch, wenn ein Array-Typ als Parameter an eine Funktion übergeben wird, da hierbei implizit in den zugrunde liegenden Pointer-Typ umgewandelt wird.)"
   ]
  },
  {
   "attachments": {},
   "cell_type": "markdown",
   "id": "75f53095",
   "metadata": {},
   "source": [
    "## Aufgabe: For-Schleife\n",
    "\n",
    "Schreiben sie ein Programm, dass das Maximum der Elemente eines vorgegebenen Arrays bestimmt. Als Test können sie zum Beispiel den Array `int numbers[] = {5,7,13,2,6,5,19};` nutzen.\n",
    "\n",
    "Hinweis: Die Anzahl der Elemente eines Arrays können Sie mit `sizeof(numbers)` berechnen, das einen `int` zurückgibt."
   ]
  },
  {
   "cell_type": "code",
   "execution_count": null,
   "id": "40b8354f",
   "metadata": {
    "vscode": {
     "languageId": "plaintext"
    }
   },
   "outputs": [],
   "source": [
    "#include <iostream>\n",
    "\n",
    "int main(int argc, const char* argv[])\n",
    "{\n",
    "    int numbers[] = {5,7,13,2,6,5,9};\n",
    "    int max = 0;\n",
    "    // Provide code for finding the max in the array.\n",
    "\n",
    "    std::cout << max << std::endl;\n",
    "}"
   ]
  },
  {
   "attachments": {},
   "cell_type": "markdown",
   "id": "b60d4638",
   "metadata": {},
   "source": [
    "In den folgenden Zellen sind zwei mögliche Lösungen angegeben, die dies kurz in Code umsetzen. Später werden sie noch weitere Vereinfachungen zum Zugriff kennen lernen."
   ]
  },
  {
   "cell_type": "code",
   "execution_count": null,
   "id": "e202ae14",
   "metadata": {
    "tags": [
     "hide-cell"
    ],
    "vscode": {
     "languageId": "plaintext"
    }
   },
   "outputs": [],
   "source": [
    "#include <iostream>\n",
    "\n",
    "int main(int argc, const char* argv[])\n",
    "{\n",
    "    int numbers[] = {5,7,13,2,6,5,9};\n",
    "    int size = sizeof(numbers) / sizeof(int);\n",
    "\n",
    "    int max = numbers[0];\n",
    "    for (int i = 0; i < size; ++i)\n",
    "    {\n",
    "        if (numbers[i] > max)\n",
    "            max = numbers[i];\n",
    "    }\n",
    "    \n",
    "    std::cout << max << std::endl;\n",
    "}\n",
    "\n"
   ]
  },
  {
   "cell_type": "code",
   "execution_count": null,
   "id": "27e8f84d",
   "metadata": {
    "tags": [
     "hide-cell"
    ],
    "vscode": {
     "languageId": "plaintext"
    }
   },
   "outputs": [],
   "source": [
    "#include <iostream>\n",
    "\n",
    "int main(int argc, const char* argv[])\n",
    "{\n",
    "    int numbers[] = {5,7,13,2,6,5,9};\n",
    "    \n",
    "    int max = numbers[0];\n",
    "    for (int num : numbers)\n",
    "        max = num > max ? num : max;\n",
    "\n",
    "   \n",
    "    std::cout << max << std::endl;\n",
    "}"
   ]
  },
  {
   "attachments": {},
   "cell_type": "markdown",
   "id": "7a65806c",
   "metadata": {},
   "source": [
    "Diese Aufgabe ist aus dem [WWU C++ Kurs](https://cppvorlesung.wwu.de/exercises/exercises3.html) übernommen."
   ]
  },
  {
   "attachments": {},
   "cell_type": "markdown",
   "id": "efd66d3b",
   "metadata": {},
   "source": [
    "# Strings\n",
    "\n",
    "In C gibt es keinen Datentyp String.\n",
    "\n",
    "* Strings werden als Arrays vom Typ char realisiert.\n",
    "* Das Ende eines Strings wird durch das (Steuer-)Zeichen `\\0` angegeben. Beispiel: Der String \"hello\" entspricht `{’h’, ’e’, ’l’, ’l’, ’o’, ’\\0’}`\n",
    "* Umständlich! $\\Leftrightarrow$ Kurzschreibweise: `char s[] = \"hello\";` statt\n",
    "`char s[] = {’h’, ’e’, ’l’, ’l’, ’o’, ’\\0’};`\n",
    "\n",
    "# Aufgabe: Strings\n",
    "\n",
    "Ersetzen Sie jedes Vorkommen eines Leerzeichens im String `s` durch einen Unterstrich. Nutzen Sie hierfür eine `while`-Schleife.\n",
    "\n"
   ]
  },
  {
   "cell_type": "code",
   "execution_count": null,
   "id": "0906b810",
   "metadata": {
    "vscode": {
     "languageId": "plaintext"
    }
   },
   "outputs": [],
   "source": [
    "#include <stdio.h>\n",
    "\n",
    "int main () {\n",
    "    char s[] = \"In C, string literals are of type char[], and can be assigned directly to a (non-const) char*.\";\n",
    "    \n",
    "    // Ersetzen Sie in s jedes Leerzeichen durch ’_’\n",
    "    // TODO\n",
    "\n",
    "    printf(\"%s\\n\", s); \n",
    "}"
   ]
  },
  {
   "attachments": {},
   "cell_type": "markdown",
   "id": "85d516a5",
   "metadata": {},
   "source": [
    "## Aufgabe: Taschenrechner Programm\n",
    "\n",
    "Schreiben sie ein Programm, dass einfache Taschenrechnerberechnungen durchführen kann. Aufgerufen wird das Programm mit einem ersten Parameter, der die Operation angibt (`+`, `-`, `*`, `/`). Die weiteren Parameter sind die Operanden auf die diese angewendet wird. Starten sie von folgendem Musterprogramm als Vorlage:"
   ]
  },
  {
   "cell_type": "code",
   "execution_count": null,
   "id": "94460d40",
   "metadata": {
    "vscode": {
     "languageId": "plaintext"
    }
   },
   "outputs": [],
   "source": [
    "#include <stdlib.h>\n",
    "#include <iostream>\n",
    "\n",
    "int main(int argc, const char* argv[])\n",
    "{\n",
    "        // argc enthält die Anzahl der Elemente in argv\n",
    "        // argv enthält als erstes Element den Pfad der ausgeführten Datei\n",
    "\n",
    "        // operation enthält die Operation als einzelnes Zeichen\n",
    "    char operation = argv[1][0];\n",
    "\n",
    "    int numOperands = argc - 2;\n",
    "\n",
    "        // operands ist ein Array mit den Operanden als ganze Zahlen\n",
    "    int operands[numOperands];\n",
    "    for (int i = 0; i < numOperands; ++i)\n",
    "        operands[i] = atoi(argv[i + 2]);\n",
    "\n",
    "        // ...\n",
    "}"
   ]
  },
  {
   "attachments": {},
   "cell_type": "markdown",
   "id": "9df0d3a9",
   "metadata": {},
   "source": [
    "Hinweise:\n",
    "* Sie können das Programm durch folgenden Aufruf testen: `./calculator + 1 2 3`.\n",
    "* Der Operator `*` muss im Terminal in Anführungszeichen geschrieben werden, da er sonst von der Shell interpretiert wird.\n",
    "\n",
    "Unten ist eine mögliche Lösung angegeben."
   ]
  },
  {
   "cell_type": "code",
   "execution_count": null,
   "id": "1bbc4f22",
   "metadata": {
    "tags": [
     "hide-cell"
    ],
    "vscode": {
     "languageId": "plaintext"
    }
   },
   "outputs": [],
   "source": [
    "#include <stdlib.h>\n",
    "#include <iostream>\n",
    "\n",
    "int main(int argc, const char* argv[])\n",
    "{\n",
    "    if (argc < 3)\n",
    "    {\n",
    "        std::cout << \"Zu wenige Parameter\" << std::endl;\n",
    "        return 1;\n",
    "    }\n",
    "\n",
    "        // argc enthält die Anzahl der Elemente in argv\n",
    "        // argv enthält als erstes Element den Pfad der ausgeführten Datei\n",
    "\n",
    "        // operation enthält die Operation als einzelnes Zeichen\n",
    "    char operation = argv[1][0];\n",
    "\n",
    "    int numOperands = argc - 2;\n",
    "\n",
    "        // operands ist ein Array mit den Operanden als ganze Zahlen\n",
    "    int operands[numOperands];\n",
    "    for (int i = 0; i < numOperands; ++i)\n",
    "        operands[i] = atoi(argv[i + 2]);\n",
    "\n",
    "    int value = operands[0];\n",
    "    for (int i = 1; i < numOperands; ++i)\n",
    "    {\n",
    "        switch (operation)\n",
    "        {\n",
    "            case '+':\n",
    "                value += operands[i];\n",
    "                break;\n",
    "            case '-':\n",
    "                value -= operands[i];\n",
    "                break;\n",
    "            case '*':\n",
    "                value *= operands[i];\n",
    "                break;\n",
    "            case '/':\n",
    "                value /= operands[i];\n",
    "                break;\n",
    "        }\n",
    "    }\n",
    "\n",
    "    std::cout << value << std::endl;\n",
    "    return 0;\n",
    "}"
   ]
  },
  {
   "attachments": {},
   "cell_type": "markdown",
   "id": "8427e01e",
   "metadata": {},
   "source": [
    "## Aufgabe: Primzahlzerlegung\n",
    "\n",
    "Implementieren sie eine Funktion, welche eine Zahl in  Primzahlfaktoren zerlegt und diese ausgibt. Benutzen Sie dabei in zwei verschiedenen Varianten einen\n",
    "\n",
    "* einen iterativen Algorithmus und dann\n",
    "* einen rekursiven Algorithmus.\n",
    "\n",
    "Hinweise:\n",
    "\n",
    "* Eine Zahl ist durch eine andere teilbar, wenn der Teilrest der Division “0” ergibt (operator `%`)\n",
    "* Eine Primzahl kann mehrfach vorkommen.\n",
    "* Wählen Sie eine geeignete Abbruchbedingung."
   ]
  },
  {
   "cell_type": "code",
   "execution_count": null,
   "id": "d5c556b7",
   "metadata": {
    "vscode": {
     "languageId": "plaintext"
    }
   },
   "outputs": [],
   "source": [
    "#include <stdlib.h>\n",
    "#include <iostream>\n",
    "\n",
    "void printPrimes(int number)\n",
    "{\n",
    "    // ...\n",
    "}\n",
    "\n",
    "int main(int argc, const char* argv[])\n",
    "{\n",
    "    printPrimes(atoi(argv[1]));\n",
    "}"
   ]
  },
  {
   "attachments": {},
   "cell_type": "markdown",
   "id": "a0537547",
   "metadata": {},
   "source": [
    "Folgend eine mögliche Lösung als iterative Funktion:"
   ]
  },
  {
   "cell_type": "code",
   "execution_count": null,
   "id": "5188582d",
   "metadata": {
    "tags": [
     "hide-cell"
    ],
    "vscode": {
     "languageId": "plaintext"
    }
   },
   "outputs": [],
   "source": [
    "#include <stdlib.h>\n",
    "#include <iostream>\n",
    "\n",
    "void printPrimes(int number)\n",
    "{\n",
    "    for (int i = 2; i <= number; )\n",
    "    {\n",
    "        if (number % i == 0)\n",
    "        {\n",
    "            number /= i;\n",
    "            std::cout << i << std::endl;\n",
    "        }\n",
    "        else\n",
    "        {\n",
    "            ++i;\n",
    "        }\n",
    "    }\n",
    "}\n",
    "\n",
    "int main(int argc, const char* argv[])\n",
    "{\n",
    "    printPrimes(atoi(argv[1]));\n",
    "}"
   ]
  },
  {
   "attachments": {},
   "cell_type": "markdown",
   "id": "5be4babb",
   "metadata": {},
   "source": [
    "Folgend eine Lösung für eine rekursive Implementierung:"
   ]
  },
  {
   "cell_type": "code",
   "execution_count": null,
   "id": "ea56f027",
   "metadata": {
    "tags": [
     "hide-cell"
    ],
    "vscode": {
     "languageId": "plaintext"
    }
   },
   "outputs": [],
   "source": [
    "#include <stdlib.h>\n",
    "#include <iostream>\n",
    "\n",
    "void printPrimes(int number)\n",
    "{\n",
    "    for (int i = 2; i <= number; ++i)\n",
    "    {\n",
    "        if (number % i != 0)\n",
    "            continue;\n",
    "\n",
    "        std::cout << i << std::endl;\n",
    "        return printPrimes(number / i);\n",
    "    }\n",
    "}\n",
    "\n",
    "int main(int argc, const char* argv[])\n",
    "{\n",
    "    printPrimes(atoi(argv[1]));\n",
    "}"
   ]
  }
 ],
 "metadata": {
  "kernelspec": {
   "display_name": "C++17",
   "language": "C++17",
   "name": "xcpp17"
  },
  "language_info": {
   "codemirror_mode": "text/x-c++src",
   "file_extension": ".cpp",
   "mimetype": "text/x-c++src",
   "name": "c++",
   "version": "17"
  }
 },
 "nbformat": 4,
 "nbformat_minor": 5
}
