{
 "cells": [
  {
   "attachments": {},
   "cell_type": "markdown",
   "id": "089f6ac3",
   "metadata": {},
   "source": [
    "# 1.3 Kontrollfluss"
   ]
  },
  {
   "attachments": {},
   "cell_type": "markdown",
   "id": "63d337c0-e116-4d5f-b175-d21f203c549b",
   "metadata": {},
   "source": [
    "## Zugriff auf Hilfe zur Standard-Library"
   ]
  },
  {
   "attachments": {},
   "cell_type": "markdown",
   "id": "53686316",
   "metadata": {},
   "source": [
    "Es kann dazu im Notebook direkt auf die Hilfsseiten der STL zugegriffen werden über `?Begrif``, zum Beispiel\n",
    "\n",
    "`?std::vector`\n",
    "\n",
    "Dies öffnet die Informationen direkt aus dem Netz (und kann daher ein paar Sekunden benötigen). "
   ]
  },
  {
   "cell_type": "code",
   "execution_count": null,
   "id": "02016f07",
   "metadata": {
    "vscode": {
     "languageId": "plaintext"
    }
   },
   "outputs": [],
   "source": [
    "?std::vector"
   ]
  },
  {
   "attachments": {},
   "cell_type": "markdown",
   "id": "e0919531",
   "metadata": {},
   "source": [
    "# Arrays\n",
    "\n",
    "Definition: `int data1[42];`\n",
    "\n",
    "Statt der expliziten Größenangabe kann ein Array implizit mit einer Initialisierungsliste definiert werden:\n",
    "`int data2[] = {1, 2, 3, 44, 55, 110};`\n",
    "\n",
    "Zugriff auf Elemente:\n",
    "`int a = data2[0]; // a == 1`\n",
    "`data2 [1] = a;`\n",
    "\n",
    "**Achtung:* Keine Exception bei unerlaubtem Zugriff wie z.B. `data2[6] = 24;`\n",
    "\n",
    "Es gibt keine Funktion `array_name.length()!` Die Länge eines Arrays muss separat gespeichert/an Funktionen übergeben werden (Die Anzahl der Elemente eines Arrays `a` kann zwar mit `sizeof(a)`/`sizeof(a[0])` ermittelt werden, nicht jedoch, wenn ein Array-Typ als Parameter an eine Funktion übergeben wird, da hierbei implizit in den zugrunde liegenden Pointer-Typ umgewandelt wird.)"
   ]
  },
  {
   "attachments": {},
   "cell_type": "markdown",
   "id": "75f53095",
   "metadata": {},
   "source": [
    "## Aufgabe: For-Schleife\n",
    "\n",
    "Schreiben sie ein Programm, dass das Maximum der Elemente eines vorgegebenen Arrays bestimmt. Als Test können sie zum Beispiel den Array `int numbers[] = {5,7,13,2,6,5,19};` nutzen.\n",
    "\n",
    "Hinweis: Die Anzahl der Elemente eines Arrays können Sie mit `sizeof(numbers)` berechnen, das einen `int` zurückgibt.\n",
    "\n",
    "Hilfe zu [Kontrollstrukturen](https://cppvorlesung.wwu.de/lecture/language/statements.html#control-structures)."
   ]
  },
  {
   "cell_type": "code",
   "execution_count": null,
   "id": "40b8354f",
   "metadata": {
    "vscode": {
     "languageId": "plaintext"
    }
   },
   "outputs": [],
   "source": [
    "#include <iostream>\n",
    "\n",
    "int main(int argc, const char* argv[])\n",
    "{\n",
    "    int numbers[] = {5,7,13,2,6,5,9};\n",
    "    int max = 0;\n",
    "    // Provide code for finding the max in the array.\n",
    "\n",
    "    std::cout << max << std::endl;\n",
    "}"
   ]
  },
  {
   "attachments": {},
   "cell_type": "markdown",
   "id": "b60d4638",
   "metadata": {},
   "source": [
    "Lösungsbeispiel findet sich im [Jupyter-Book](https://www.uni-muenster.de/AISystems/courses/CPP/site/html/intro.html)."
   ]
  },
  {
   "cell_type": "code",
   "execution_count": null,
   "id": "27e8f84d",
   "metadata": {
    "tags": [],
    "vscode": {
     "languageId": "plaintext"
    }
   },
   "outputs": [],
   "source": [
    "main()"
   ]
  },
  {
   "attachments": {},
   "cell_type": "markdown",
   "id": "7a65806c",
   "metadata": {},
   "source": [
    "Diese Aufgabe ist aus dem [WWU C++ Kurs](https://cppvorlesung.wwu.de/exercises/exercises3.html) übernommen."
   ]
  }
 ],
 "metadata": {
  "kernelspec": {
   "display_name": "C++17",
   "language": "C++17",
   "name": "xcpp17"
  },
  "language_info": {
   "codemirror_mode": "text/x-c++src",
   "file_extension": ".cpp",
   "mimetype": "text/x-c++src",
   "name": "c++",
   "version": "17"
  }
 },
 "nbformat": 4,
 "nbformat_minor": 5
}
