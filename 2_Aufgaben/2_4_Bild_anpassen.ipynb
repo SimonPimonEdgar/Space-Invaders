{
 "cells": [
  {
   "attachments": {},
   "cell_type": "markdown",
   "id": "efd66d3b",
   "metadata": {},
   "source": [
    "# 2.4 Direkter Zugriff auf den Speicher\n",
    "\n",
    "C++ erlaubt direkten Zugriff auf den Speicher. Dies kann Probleme nach sich ziehen und erfordert zusätzlich die explizite Verwaltung von Speicher. Aber als Vorteil erlaubt dies Funktionen sehr effizient zu implementieren und die zugrunde liegende Struktur im Speicher auch auszunutzen. \n",
    "\n",
    "Dies soll im folgenden an einem Beispiel deutlich gemacht werden, in dem ein Bild in den Speicher geladen wird. Als Nutzer und Programmierer abstrahieren wir ein Bild als zwei-dimensionales Feld von Pixeln (bzw. mehr-dimensional wenn wir vers. Farbwerte betrachten). Im Speicher wird dies aber als ein großer 1-dimensionaler Array angelegt.\n",
    "\n",
    "Im folgenden sollen sie nun dies Programm untersuchen und dann eine Funktion schreiben, die den mittleren Grauwert des Bildes errechnet. Dabei sollen sie drei unterschiedliche Varianten nutzen:\n",
    "\n",
    "* eine Variante, in der das eingelesene Bild zuerst Zeilen-weise und dann Spalten-weise durchlaufen wird;\n",
    "* eine Variante, in der das eingelesene Bild dagegegn zuerst Spalten-weise und dann Zeilen-weise durchlaufen wird;\n",
    "* eine Variante, die direkt das ursprüngliche ein-dimensionale Array durchläuft.\n",
    "\n",
    "Für die verschiedenen Varianten sollen die Laufzeiten geprüft werden -- dazu wird die Funktion jeweils vielfach aufgerufen und dies wird über einen einfachen zeitlichen Zugriff realisiert.\n",
    "\n",
    "Was beobachten sie?"
   ]
  },
  {
   "cell_type": "code",
   "execution_count": null,
   "id": "0906b810",
   "metadata": {
    "vscode": {
     "languageId": "plaintext"
    }
   },
   "outputs": [],
   "source": [
    "#include <iostream>\n",
    "#include <fstream>\n",
    "#include <chrono>\n",
    "\n",
    "int main_array()\n",
    "{\n",
    "    double a = 0.5;\n",
    "    int square_dim = 1000;\n",
    "    int* data = new int[square_dim * square_dim];\n",
    "    int** image = new int*[square_dim];\n",
    "    for (int i = 0; i < (square_dim * square_dim); i++) {\n",
    "        data[i] = i;\n",
    "        image[i] = data + i * square_dim;\n",
    "    }\n",
    "    //std::cout << data[1001] << std::endl;\n",
    "    //std::cout << image[12][12] << std::endl;\n",
    "\n",
    "    auto start = std::chrono::high_resolution_clock::now();\n",
    "\n",
    "    long long sum;\n",
    "\n",
    "    for (int iter = 0; iter < 1000; iter++) {\n",
    "        for(int i=0; i<(square_dim * square_dim); i++) {\n",
    "            sum += data[i];\n",
    "        }\n",
    "    }\n",
    "\n",
    "    auto end = std::chrono::high_resolution_clock::now();\n",
    "    auto duration = std::chrono::duration_cast<std::chrono::microseconds>(end - start);\n",
    "    std::cout << \"Execution time: \" << duration.count() << \" us\" << std::endl;\n",
    "\n",
    "    std::cout << sum / (square_dim * square_dim) << std::endl;\n",
    "\n",
    "    return 0;\n",
    "}"
   ]
  },
  {
   "cell_type": "code",
   "execution_count": null,
   "id": "3f5347a1",
   "metadata": {
    "vscode": {
     "languageId": "plaintext"
    }
   },
   "outputs": [],
   "source": [
    "main_array()"
   ]
  },
  {
   "cell_type": "code",
   "execution_count": null,
   "id": "7aac6eb1",
   "metadata": {
    "vscode": {
     "languageId": "plaintext"
    }
   },
   "outputs": [],
   "source": [
    "#include <iostream>\n",
    "#include <fstream>\n",
    "#include <chrono>\n",
    "\n",
    "int main_zeilen()\n",
    "{\n",
    "    double a = 0.5;\n",
    "    int square_dim = 1000;\n",
    "    int* data = new int[square_dim * square_dim];\n",
    "    int** image = new int*[square_dim];\n",
    "    for (int i = 0; i < (square_dim * square_dim); i++) {\n",
    "        data[i] = i;\n",
    "        image[i] = data + i * square_dim;\n",
    "    }\n",
    "    //std::cout << data[1001] << std::endl;\n",
    "    //std::cout << image[12][12] << std::endl;\n",
    "\n",
    "    auto start = std::chrono::high_resolution_clock::now();\n",
    "\n",
    "    long long sum;\n",
    "\n",
    "    for (int iter = 0; iter < 1000; iter++) {\n",
    "        for(int h=0; h<square_dim; h++) {\n",
    "            for(int w=1; w<square_dim; w++) {\n",
    "                sum += image[h][w];\n",
    "            }\n",
    "        }\n",
    "    }\n",
    "\n",
    "    auto end = std::chrono::high_resolution_clock::now();\n",
    "    auto duration = std::chrono::duration_cast<std::chrono::microseconds>(end - start);\n",
    "    std::cout << \"Execution time: \" << duration.count() << \" us\" << std::endl;\n",
    "\n",
    "    std::cout << sum / (square_dim * square_dim) << std::endl;\n",
    "\n",
    "    return 0;\n",
    "}"
   ]
  },
  {
   "cell_type": "code",
   "execution_count": null,
   "id": "eb2358a4",
   "metadata": {
    "vscode": {
     "languageId": "plaintext"
    }
   },
   "outputs": [],
   "source": [
    "main_zeilen()"
   ]
  },
  {
   "cell_type": "code",
   "execution_count": null,
   "id": "4700e4b5",
   "metadata": {
    "vscode": {
     "languageId": "plaintext"
    }
   },
   "outputs": [],
   "source": [
    "#include <iostream>\n",
    "#include <fstream>\n",
    "#include <chrono>\n",
    "\n",
    "int main_spalten()\n",
    "{\n",
    "    double a = 0.5;\n",
    "    int square_dim = 1000;\n",
    "    int* data = new int[square_dim * square_dim];\n",
    "    int** image = new int*[square_dim];\n",
    "    for (int i = 0; i < (square_dim * square_dim); i++) {\n",
    "        data[i] = i;\n",
    "        image[i] = data + i * square_dim;\n",
    "    }\n",
    "    //std::cout << data[1001] << std::endl;\n",
    "    //std::cout << image[12][12] << std::endl;\n",
    "\n",
    "    auto start = std::chrono::high_resolution_clock::now();\n",
    "\n",
    "    long long sum;\n",
    "    for (int iter = 0; iter < 1000; iter++) {\n",
    "        sum = 0;\n",
    "        for(int w=0; w<square_dim; w++) {\n",
    "            for(int h=1; h<square_dim; h++) {\n",
    "                sum += image[h][w];\n",
    "                //image[h][w] = (1-a)*image[h][w] + a*image[h-1][w];\n",
    "            }\n",
    "        }\n",
    "    }\n",
    "\n",
    "    auto end = std::chrono::high_resolution_clock::now();\n",
    "    auto duration = std::chrono::duration_cast<std::chrono::microseconds>(end - start);\n",
    "    std::cout << \"Execution time: \" << duration.count() << \" us\" << std::endl;\n",
    "\n",
    "    std::cout << sum / (square_dim * square_dim) << std::endl;\n",
    "\n",
    "    return 0;\n",
    "}\n"
   ]
  },
  {
   "cell_type": "code",
   "execution_count": null,
   "id": "054b9898",
   "metadata": {
    "vscode": {
     "languageId": "plaintext"
    }
   },
   "outputs": [],
   "source": [
    "main_spalten()"
   ]
  },
  {
   "attachments": {},
   "cell_type": "markdown",
   "id": "4ef84928",
   "metadata": {},
   "source": [
    "## Erweiterung: Anpassen der Bildhelligkeit\n",
    "\n",
    "Das Bild (`marie_darkened.bmp`) ist viel zu dunkel. Passen sie eine der Funktionen von oben so an, dass sie die Werte des Bildes im Array sinnvoll aufhellen (den Wertebereich auf das ganze Spektrum für Grauwerte von 0 bis 255 ausdehnen)."
   ]
  }
 ],
 "metadata": {
  "kernelspec": {
   "display_name": "C++17",
   "language": "C++17",
   "name": "xcpp17"
  },
  "language_info": {
   "codemirror_mode": "text/x-c++src",
   "file_extension": ".cpp",
   "mimetype": "text/x-c++src",
   "name": "c++",
   "version": "17"
  }
 },
 "nbformat": 4,
 "nbformat_minor": 5
}
