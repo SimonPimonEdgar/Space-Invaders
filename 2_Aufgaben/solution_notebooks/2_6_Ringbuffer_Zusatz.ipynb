{
 "cells": [
  {
   "attachments": {},
   "cell_type": "markdown",
   "id": "089f6ac3",
   "metadata": {},
   "source": [
    "# 2.6 Ringbuffer"
   ]
  },
  {
   "attachments": {},
   "cell_type": "markdown",
   "id": "53686316",
   "metadata": {},
   "source": [
    "Es soll ein Ringbuffer implementiert werden. Ein Ringbuffer besteht aus einem Buffer konstanter Größe, in den neue Daten geschrieben und alte Daten gelesen werden können. Es werden aus einem Ringbuffer immer die zuerst geschriebenen Bytes gelesen (FIFO). Die jeweilige Schreib- und Leseposition innerhalb eines Ringbuffers wird durch Zeiger auf die entsprechende Stelle realisiert, an der gelesen bzw. an die geschrieben werden soll."
   ]
  },
  {
   "attachments": {},
   "cell_type": "markdown",
   "id": "045d4e1e",
   "metadata": {},
   "source": [
    "<div class=\"alert alert-warning\">\n",
    "    <b>ToDo</b>: Implementieren sie die unten deklarierten Funktionen für den Ringbuffer.\n",
    "</div>"
   ]
  },
  {
   "cell_type": "code",
   "execution_count": null,
   "id": "02016f07",
   "metadata": {
    "vscode": {
     "languageId": "plaintext"
    }
   },
   "outputs": [],
   "source": [
    "struct RingBuffer\n",
    "{\n",
    "    int size;       // Buffergröße\n",
    "    int avail;      // Anzahl der freien Bytes im Buffer\n",
    "    char* buffer;   // Speicherbereich für Daten\n",
    "    char* read;     // Zeiger auf die Leseposition\n",
    "    char* write;    // Zeiger auf die Schreibposition\n",
    "};"
   ]
  },
  {
   "cell_type": "code",
   "execution_count": null,
   "id": "d43c61f7",
   "metadata": {
    "vscode": {
     "languageId": "plaintext"
    }
   },
   "outputs": [],
   "source": [
    "void initBuffer(RingBuffer& rb, int size);    // initialisiert ein RingBuffer Struct mit der gewünschten Buffergröße"
   ]
  },
  {
   "cell_type": "code",
   "execution_count": null,
   "id": "3ba3c36e",
   "metadata": {
    "vscode": {
     "languageId": "plaintext"
    }
   },
   "outputs": [],
   "source": [
    "void freeBuffer(RingBuffer& rb);              // gibt ein RingBuffer Struct wieder frei"
   ]
  },
  {
   "cell_type": "code",
   "execution_count": null,
   "id": "d1e3d0bc",
   "metadata": {
    "vscode": {
     "languageId": "plaintext"
    }
   },
   "outputs": [],
   "source": [
    "bool isEmpty(RingBuffer& rb);                 // true, wenn der RingBuffer leer ist"
   ]
  },
  {
   "cell_type": "code",
   "execution_count": null,
   "id": "f52f8e6a",
   "metadata": {
    "vscode": {
     "languageId": "plaintext"
    }
   },
   "outputs": [],
   "source": [
    "bool isFull(RingBuffer& rb);                  // true, wenn der RingBuffer voll ist"
   ]
  },
  {
   "cell_type": "code",
   "execution_count": null,
   "id": "6824d38c",
   "metadata": {
    "vscode": {
     "languageId": "plaintext"
    }
   },
   "outputs": [],
   "source": [
    "int bytesFree(RingBuffer& rb);                // Anzahl der verfügbaren freien Bytes"
   ]
  },
  {
   "cell_type": "code",
   "execution_count": null,
   "id": "c9467d3a",
   "metadata": {
    "vscode": {
     "languageId": "plaintext"
    }
   },
   "outputs": [],
   "source": [
    "int read(RingBuffer& rb, char* buffer, int len);           // Liest Daten von einem RingBuffer"
   ]
  },
  {
   "attachments": {},
   "cell_type": "markdown",
   "id": "e0919531",
   "metadata": {},
   "source": [
    "## Prüfen des Ringbuffers\n",
    "\n",
    "Testen sie ihre Implementierung und die verschiedenen Funktionen des Ringbuffers:"
   ]
  },
  {
   "cell_type": "code",
   "execution_count": null,
   "id": "42a923ad",
   "metadata": {
    "vscode": {
     "languageId": "plaintext"
    }
   },
   "outputs": [],
   "source": [
    "#include <iostream>\n",
    "\n",
    "char temp[4];\n",
    "RingBuffer buf;\n",
    "initBuffer(buf, 6);\n",
    "\n",
    "// write\n",
    "write(buf, \"abcd\", 4);\n",
    "isEmpty(buf);\n",
    "isFull(buf);\n",
    "bytesFree(buf);\n",
    "std::cout << buf.buffer[0] << std::endl;\n",
    "\n",
    "// read\n",
    "read(buf, temp);\n",
    "isEmpty(buf); // Should be true.\n",
    "isFull(buf);\n",
    "bytesFree(buf);\n",
    "\n",
    "// write\n",
    "write(buf, \"abcdef\", 6);\n",
    "isEmpty(buf);\n",
    "isFull(buf);\n",
    "bytesFree(buf);\n",
    "std::cout << buf.buffer[0] << std::endl; // Should be 'c'\n",
    "\n",
    "freeBuffer(buf);"
   ]
  },
  {
   "cell_type": "code",
   "execution_count": null,
   "id": "a8a65f42",
   "metadata": {
    "tags": [
     "hide-cell"
    ],
    "vscode": {
     "languageId": "plaintext"
    }
   },
   "outputs": [],
   "source": [
    "// Moegliche Loesung:\n",
    "void initBuffer(RingBuffer& rb, int size)\n",
    "{\n",
    "    rb.write = rb.read = rb.buffer = new char[size];\n",
    "    rb.avail = rb.size = size;\n",
    "}"
   ]
  },
  {
   "cell_type": "code",
   "execution_count": null,
   "id": "977544ab",
   "metadata": {
    "tags": [
     "hide-cell"
    ],
    "vscode": {
     "languageId": "plaintext"
    }
   },
   "outputs": [],
   "source": [
    "void freeBuffer(RingBuffer& rb)\n",
    "{\n",
    "    delete[] rb.buffer;\n",
    "    rb.avail = rb.size = 0;\n",
    "}"
   ]
  },
  {
   "cell_type": "code",
   "execution_count": null,
   "id": "66f6d4da",
   "metadata": {
    "tags": [
     "hide-cell"
    ],
    "vscode": {
     "languageId": "plaintext"
    }
   },
   "outputs": [],
   "source": [
    "\n",
    "bool isEmpty(RingBuffer& rb)\n",
    "{\n",
    "    return rb.avail == rb.size;\n",
    "}"
   ]
  },
  {
   "cell_type": "code",
   "execution_count": null,
   "id": "e589315d",
   "metadata": {
    "tags": [
     "hide-cell"
    ],
    "vscode": {
     "languageId": "plaintext"
    }
   },
   "outputs": [],
   "source": [
    "\n",
    "bool isFull(RingBuffer& rb)\n",
    "{\n",
    "    return rb.avail == 0;\n",
    "}"
   ]
  },
  {
   "cell_type": "code",
   "execution_count": null,
   "id": "4fc0465d",
   "metadata": {
    "tags": [
     "hide-cell"
    ],
    "vscode": {
     "languageId": "plaintext"
    }
   },
   "outputs": [],
   "source": [
    "int bytesFree(RingBuffer& rb)\n",
    "{\n",
    "    return rb.avail;\n",
    "}"
   ]
  },
  {
   "cell_type": "code",
   "execution_count": null,
   "id": "d7da4930",
   "metadata": {
    "tags": [
     "hide-cell"
    ],
    "vscode": {
     "languageId": "plaintext"
    }
   },
   "outputs": [],
   "source": [
    "int read(RingBuffer& rb, char* buffer, int len)\n",
    "{\n",
    "    for (int i = 0; i < len; ++i, ++rb.avail)\n",
    "    {\n",
    "        if (isEmpty(rb))\n",
    "            return i;\n",
    "\n",
    "        *buffer++ = *rb.read++;\n",
    "\n",
    "            // wrap at end\n",
    "        if (rb.read >= rb.buffer + rb.size)\n",
    "            rb.read = rb.buffer;\n",
    "    }\n",
    "\n",
    "    return len;\n",
    "}"
   ]
  },
  {
   "cell_type": "code",
   "execution_count": null,
   "id": "1cf94909",
   "metadata": {
    "tags": [
     "hide-cell"
    ],
    "vscode": {
     "languageId": "plaintext"
    }
   },
   "outputs": [],
   "source": [
    "\n",
    "int write(RingBuffer& rb, const char* buffer, int len)\n",
    "{\n",
    "    for (int i = 0; i < len; ++i, --rb.avail)\n",
    "    {\n",
    "        if (isFull(rb))\n",
    "            return i;\n",
    "\n",
    "        *rb.write++ = *buffer++;\n",
    "\n",
    "            // wrap at end\n",
    "        if (rb.write >= rb.buffer + rb.size)\n",
    "            rb.write = rb.buffer;\n",
    "    }\n",
    "\n",
    "    return len;\n",
    "}"
   ]
  },
  {
   "attachments": {},
   "cell_type": "markdown",
   "id": "7a65806c",
   "metadata": {},
   "source": [
    "Diese Aufgabe ist aus dem [WWU C++ Kurs](https://cppvorlesung.wwu.de/exercises/exercises3.html) übernommen."
   ]
  }
 ],
 "metadata": {
  "kernelspec": {
   "display_name": "C++17",
   "language": "C++17",
   "name": "xcpp17"
  },
  "language_info": {
   "codemirror_mode": "text/x-c++src",
   "file_extension": ".cpp",
   "mimetype": "text/x-c++src",
   "name": "c++",
   "version": "17"
  }
 },
 "nbformat": 4,
 "nbformat_minor": 5
}
