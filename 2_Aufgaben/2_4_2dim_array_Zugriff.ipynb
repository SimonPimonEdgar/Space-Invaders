{
 "cells": [
  {
   "attachments": {},
   "cell_type": "markdown",
   "id": "efd66d3b",
   "metadata": {},
   "source": [
    "# 2.4 Direkter Zugriff auf den Speicher\n",
    "\n",
    "C++ erlaubt direkten Zugriff auf den Speicher. Dies kann Probleme nach sich ziehen und erfordert zusätzlich die explizite Verwaltung von Speicher. Aber als Vorteil erlaubt dies Funktionen sehr effizient zu implementieren und die zugrunde liegende Struktur im Speicher auch auszunutzen. \n",
    "\n",
    "Dies soll im folgenden an einem Beispiel deutlich gemacht werden, in dem ein Bild in den Speicher geladen wird. Als Nutzer und Programmierer abstrahieren wir ein Bild als zwei-dimensionales Feld von Pixeln (bzw. mehr-dimensional wenn wir vers. Farbwerte betrachten). Im Speicher wird dies aber als ein großer 1-dimensionaler Array angelegt.\n",
    "\n",
    "Im folgenden sollen sie nun dies Programm untersuchen und dann eine Funktion schreiben, die den mittleren Grauwert des Bildes errechnet. Dabei sollen sie drei unterschiedliche Varianten nutzen:\n",
    "\n",
    "* eine Variante, in der das eingelesene Bild zuerst Zeilen-weise und dann Spalten-weise durchlaufen wird;\n",
    "* eine Variante, in der das eingelesene Bild dagegegn zuerst Spalten-weise und dann Zeilen-weise durchlaufen wird;\n",
    "* eine Variante, die direkt das ursprüngliche ein-dimensionale Array durchläuft.\n",
    "\n",
    "Für die verschiedenen Varianten sollen die Laufzeiten geprüft werden -- dazu wird die Funktion jeweils vielfach aufgerufen und dies wird über einen einfachen zeitlichen Zugriff realisiert.\n",
    "\n",
    "Was beobachten sie?"
   ]
  },
  {
   "attachments": {},
   "cell_type": "markdown",
   "id": "e71e3405",
   "metadata": {},
   "source": [
    "<div class=\"alert alert-warning\">\n",
    "Im ersten Teil erzeugen wir noch ein zweidimensionales Array von Hand und befüllen dies. Dies wird dann in unterschiedliche Richtungen durchlaufen. Dabei wird die Bearbeitungszeit gemessen.\n",
    "\n",
    "<b>ToDo</b>: \n",
    "\n",
    "* Erzeugen sie ein eindimensionales Array von der Größe $square_dim^2$ als `int*` und reservieren den Speicher über `new`.\n",
    "* Erzeugen sie ein zweidimensionales Array der Größe $square_dim \\times square_dim$: dies soll vom Typ `int**` sein und somit Pointer auf weitere Arrays (die einzelnen Zeilen) enthalten.\n",
    "* Befüllen sie die beiden Arrays mit beliebigen Werten.\n",
    "\n",
    "</div>"
   ]
  },
  {
   "cell_type": "code",
   "execution_count": null,
   "id": "0906b810",
   "metadata": {
    "vscode": {
     "languageId": "plaintext"
    }
   },
   "outputs": [],
   "source": [
    "#include <iostream>\n",
    "\n",
    "int main()\n",
    "{\n",
    "    int square_dim = 1000; // Dimension der quadratischen Matrix\n",
    "    int* data = new int[square_dim * square_dim]; // Dynamische Speicherzuweisung für ein eindimensionales Array\n",
    "    // Erzeugen des zweidimensionalen Arrays\n",
    "    int** image = ...\n",
    "    new int*[square_dim]; // Dynamische Speicherzuweisung für ein zweidimensionales Array\n",
    "\n",
    "    for (int i = 0; i < (square_dim * square_dim); i++) {\n",
    "        // Daten in das eindimensionale Array data schreiben\n",
    "    }\n",
    "\n",
    "    for (int i = 0; i < square_dim; i++) {\n",
    "        // Dynamische Speicherzuweisung für die Zeilen des zweidimensionalen Arrays image\n",
    "        // und dann zeilenweise schreiben in diese (nested for loop)\n",
    "\n",
    "    }\n",
    "\n",
    "    std::cout << data[1001] << std::endl; // Ausgabe des Wertes an der Indexposition 1001 im Array data\n",
    "    std::cout << image[1][1] << std::endl; // Ausgabe des Wertes an der Position (1, 1) im Array image\n",
    "\n",
    "    delete[] data; // Speicher freigeben, der mit new[] reserviert wurde\n",
    "    delete[] image; // Speicher freigeben, der mit new[] reserviert wurde\n",
    "\n",
    "    return 0;\n",
    "}"
   ]
  },
  {
   "cell_type": "code",
   "execution_count": null,
   "id": "c4624742",
   "metadata": {
    "vscode": {
     "languageId": "plaintext"
    }
   },
   "outputs": [],
   "source": [
    "main()"
   ]
  },
  {
   "attachments": {},
   "cell_type": "markdown",
   "id": "91015481",
   "metadata": {},
   "source": [
    "<div class=\"alert alert-warning\">\n",
    "\n",
    "Nun soll der Durchschnittseintrag über den verschiedenen Arrays berechnet werden. Dabei soll der zweidimensionale Array unterschiedlich durchlaufen werden:\n",
    "\n",
    "* zeilenweise\n",
    "* spaltenweise\n",
    "\n",
    "Was beobachten sie in den Laufzeiten (dies müssen sie vermutlich ein paar mal wiederholen).\n",
    "</div>"
   ]
  },
  {
   "cell_type": "code",
   "execution_count": null,
   "id": "7aac6eb1",
   "metadata": {
    "vscode": {
     "languageId": "plaintext"
    }
   },
   "outputs": [],
   "source": [
    "#include <iostream>\n",
    "#include <chrono>\n",
    "\n",
    "int main_zeilen()\n",
    "{\n",
    "    int square_dim = 1000; // Dimension der quadratischen Matrix\n",
    "    int* data = new int[square_dim * square_dim]; // Dynamische Speicherzuweisung für ein eindimensionales Array\n",
    "    int** image = new int*[square_dim]; // Dynamische Speicherzuweisung für ein zweidimensionales Array\n",
    "\n",
    "    for (int i = 0; i < (square_dim * square_dim); i++) {\n",
    "        data[i] = i; // Daten in das eindimensionale Array data schreiben\n",
    "    }\n",
    "\n",
    "    for (int i = 0; i < square_dim; i++) {\n",
    "        image[i] = new int[square_dim]; // Dynamische Speicherzuweisung für die Zeilen des zweidimensionalen Arrays image\n",
    "\n",
    "        for (int j = 0; j < square_dim; j++) {\n",
    "            image[i][j] = i * square_dim + j; // Daten in das zweidimensionale Array image schreiben\n",
    "        }\n",
    "    }\n",
    "\n",
    "    // Timen der Funktionsaufrufe.\n",
    "    auto start = std::chrono::high_resolution_clock::now(); // Startzeitpunkt für die Zeitmessung\n",
    "\n",
    "    long long sum; // Variable für die Summe\n",
    "\n",
    "    // Aufgabe: Durchlaufen in vers. Richtungen und den Mittelwert bestimmen\n",
    "    for (int iter = 0; iter < 1000; iter++) { // Schleife für 1000 Iterationen\n",
    "        // Dies soll in der inneren Loop geschehen (weitere Schachtelung von mehreren Loops)\n",
    "        // Die aeussere Loop (1000-fach) dient nur dazu, um eine bessere Annaeherung fuer die Zeiterfassung zu bekommen!\n",
    "        sum = 0; // Summe zurücksetzen\n",
    "        // TODO\n",
    "    }\n",
    "\n",
    "    auto end = std::chrono::high_resolution_clock::now(); // Endzeitpunkt für die Zeitmessung\n",
    "    auto duration = std::chrono::duration_cast<std::chrono::microseconds>(end - start); // Dauer der Zeitmessung berechnen\n",
    "    std::cout << \"Execution time: \" << duration.count() << \" us\" << std::endl; // Ausgabe der Zeitmessung in Mikrosekunden\n",
    "\n",
    "    std::cout << sum / (square_dim * square_dim) << std::endl; // Durchschnitt berechnen und ausgeben\n",
    "\n",
    "    delete[] data; // Speicher freigeben, der mit new[] reserviert wurde\n",
    "    delete[] image; // Speicher freigeben, der mit new[] reserviert wurde\n",
    "\n",
    "    return 0;\n",
    "}"
   ]
  },
  {
   "cell_type": "code",
   "execution_count": null,
   "id": "eb2358a4",
   "metadata": {
    "vscode": {
     "languageId": "plaintext"
    }
   },
   "outputs": [],
   "source": [
    "main_zeilen()"
   ]
  },
  {
   "cell_type": "code",
   "execution_count": null,
   "id": "4700e4b5",
   "metadata": {
    "vscode": {
     "languageId": "plaintext"
    }
   },
   "outputs": [],
   "source": [
    "#include <iostream>\n",
    "#include <chrono>\n",
    "\n",
    "int main_spalten()\n",
    "{\n",
    "    int square_dim = 1000; // Dimension der quadratischen Matrix\n",
    "    int* data = new int[square_dim * square_dim]; // Dynamische Speicherzuweisung für ein eindimensionales Array\n",
    "    int** image = new int*[square_dim]; // Dynamische Speicherzuweisung für ein zweidimensionales Array\n",
    "\n",
    "    // ToDo - zweidimensionale Array in anderer Reihenfolge durchlaufen\n",
    "\n",
    "    return 0;\n",
    "}"
   ]
  },
  {
   "cell_type": "code",
   "execution_count": null,
   "id": "054b9898",
   "metadata": {
    "vscode": {
     "languageId": "plaintext"
    }
   },
   "outputs": [],
   "source": [
    "main_spalten()"
   ]
  }
 ],
 "metadata": {
  "kernelspec": {
   "display_name": "C++17",
   "language": "C++17",
   "name": "xcpp17"
  },
  "language_info": {
   "codemirror_mode": "text/x-c++src",
   "file_extension": ".cpp",
   "mimetype": "text/x-c++src",
   "name": "c++",
   "version": "17"
  }
 },
 "nbformat": 4,
 "nbformat_minor": 5
}
