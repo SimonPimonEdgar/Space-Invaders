{
 "cells": [
  {
   "attachments": {},
   "cell_type": "markdown",
   "id": "8427e01e",
   "metadata": {},
   "source": [
    "## 1.5 Aufgabe (Zusatz): Primzahlzerlegung\n",
    "\n",
    "Implementieren sie eine Funktion, welche eine Zahl in  Primzahlfaktoren zerlegt und diese ausgibt. Benutzen Sie dabei in zwei verschiedenen Varianten einen\n",
    "\n",
    "* einen iterativen Algorithmus und dann\n",
    "* einen rekursiven Algorithmus.\n",
    "\n",
    "Hinweise:\n",
    "\n",
    "* Eine Zahl ist durch eine andere teilbar, wenn der Teilrest der Division “0” ergibt (operator `%`)\n",
    "* Eine Primzahl kann mehrfach vorkommen.\n",
    "* Wählen Sie eine geeignete Abbruchbedingung."
   ]
  },
  {
   "cell_type": "code",
   "execution_count": null,
   "id": "d5c556b7",
   "metadata": {
    "vscode": {
     "languageId": "plaintext"
    }
   },
   "outputs": [],
   "source": [
    "#include <stdlib.h>\n",
    "#include <iostream>\n",
    "\n",
    "void printPrimes(int number)\n",
    "{\n",
    "    // ...\n",
    "}\n",
    "\n",
    "int main(int argc, const char* argv[])\n",
    "{\n",
    "    printPrimes(atoi(argv[1]));\n",
    "}"
   ]
  },
  {
   "attachments": {},
   "cell_type": "markdown",
   "id": "a0537547",
   "metadata": {},
   "source": [
    "Folgend eine mögliche Lösung als iterative Funktion:"
   ]
  },
  {
   "cell_type": "code",
   "execution_count": null,
   "id": "5188582d",
   "metadata": {
    "tags": [
     "hide-cell"
    ],
    "vscode": {
     "languageId": "plaintext"
    }
   },
   "outputs": [],
   "source": [
    "#include <stdlib.h>\n",
    "#include <iostream>\n",
    "\n",
    "void printPrimes(int number)\n",
    "{\n",
    "    for (int i = 2; i <= number; )\n",
    "    {\n",
    "        if (number % i == 0)\n",
    "        {\n",
    "            number /= i;\n",
    "            std::cout << i << std::endl;\n",
    "        }\n",
    "        else\n",
    "        {\n",
    "            ++i;\n",
    "        }\n",
    "    }\n",
    "}\n",
    "\n",
    "int main(int argc, const char* argv[])\n",
    "{\n",
    "    printPrimes(atoi(argv[1]));\n",
    "}"
   ]
  },
  {
   "attachments": {},
   "cell_type": "markdown",
   "id": "5be4babb",
   "metadata": {},
   "source": [
    "Folgend eine Lösung für eine rekursive Implementierung:"
   ]
  },
  {
   "cell_type": "code",
   "execution_count": null,
   "id": "ea56f027",
   "metadata": {
    "tags": [
     "hide-cell"
    ],
    "vscode": {
     "languageId": "plaintext"
    }
   },
   "outputs": [],
   "source": [
    "#include <stdlib.h>\n",
    "#include <iostream>\n",
    "\n",
    "void printPrimes(int number)\n",
    "{\n",
    "    for (int i = 2; i <= number; ++i)\n",
    "    {\n",
    "        if (number % i != 0)\n",
    "            continue;\n",
    "\n",
    "        std::cout << i << std::endl;\n",
    "        return printPrimes(number / i);\n",
    "    }\n",
    "}\n",
    "\n",
    "int main(int argc, const char* argv[])\n",
    "{\n",
    "    printPrimes(atoi(argv[1]));\n",
    "}"
   ]
  }
 ],
 "metadata": {
  "kernelspec": {
   "display_name": "C++17",
   "language": "C++17",
   "name": "xcpp17"
  },
  "language_info": {
   "codemirror_mode": "text/x-c++src",
   "file_extension": ".cpp",
   "mimetype": "text/x-c++src",
   "name": "c++",
   "version": "17"
  }
 },
 "nbformat": 4,
 "nbformat_minor": 5
}
