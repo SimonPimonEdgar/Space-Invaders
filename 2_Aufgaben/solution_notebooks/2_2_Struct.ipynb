{
 "cells": [
  {
   "attachments": {},
   "cell_type": "markdown",
   "id": "efd66d3b",
   "metadata": {},
   "source": [
    "# 2.2 Struct - Repräsentation von Daten \n",
    "\n",
    "## Eine Studierenden-Datenbank\n",
    "\n",
    "In diesem Beispiel wird ein Struct `Student` erstellt, das drei Felder enthält: \n",
    "\n",
    "* `name` für den Namen des Studierenden, \n",
    "* `age` für das Alter des Studierenden und \n",
    "* `studentID` für die `ID` des Studierenden. \n",
    "\n",
    "Es werden zwei Studierenden-Instanzen erstellt und ihre Felder initialisiert. Dann werden die Informationen der Studierenden mit Hilfe von `std::cout` auf der Konsole ausgegeben.\n",
    "\n",
    "Als Hilfe: [Structs](https://cppvorlesung.wwu.de/lecture/language/statements.html#structs)."
   ]
  },
  {
   "cell_type": "code",
   "execution_count": null,
   "id": "0906b810",
   "metadata": {
    "vscode": {
     "languageId": "plaintext"
    }
   },
   "outputs": [],
   "source": [
    "#include <iostream>\n",
    "#include <string>\n",
    "\n",
    "// Definition des Studenten-Structs\n",
    "struct Student\n",
    "{\n",
    "    std::string name; // Name des Studenten\n",
    "    int age;        // Alter des Studenten\n",
    "    int studentID;    // ID des Studenten\n",
    "};"
   ]
  },
  {
   "cell_type": "code",
   "execution_count": null,
   "id": "6fb37ac8",
   "metadata": {
    "vscode": {
     "languageId": "plaintext"
    }
   },
   "outputs": [],
   "source": [
    "int main()\n",
    "{\n",
    "    // Erstellung von Studenten-Instanzen\n",
    "    Student student1; // Erstellung einer Studenten-Instanz mit Namen student1\n",
    "    Student student2; // Erstellung einer weiteren Studenten-Instanz mit Namen student2\n",
    "\n",
    "    // Initialisierung der Felder der Studenten-Instanzen\n",
    "    student1.name = \"Alice\";\n",
    "    student1.age = 21;\n",
    "    student1.studentID = 12345;\n",
    "\n",
    "    student2.name = \"Bob\";\n",
    "    student2.age = 20;\n",
    "    student2.studentID = 67890;\n",
    "\n",
    "    // Ausgabe der Informationen der Studenten\n",
    "    std::cout << \"Name: \" << student1.name << std::endl;\n",
    "    std::cout << \"Alter: \" << student1.age << \" Jahre\" << std::endl;\n",
    "    std::cout << \"ID: \" << student1.studentID << std::endl;\n",
    "\n",
    "    std::cout << \"Name: \" << student2.name << std::endl;\n",
    "    std::cout << \"Alter: \" << student2.age << \" Jahre\" << std::endl;\n",
    "    std::cout << \"ID: \" << student2.studentID << std::endl;\n",
    "\n",
    "    return 0;\n",
    "}"
   ]
  },
  {
   "cell_type": "code",
   "execution_count": null,
   "id": "7aac6eb1",
   "metadata": {
    "vscode": {
     "languageId": "plaintext"
    }
   },
   "outputs": [],
   "source": [
    "main();"
   ]
  },
  {
   "attachments": {},
   "cell_type": "markdown",
   "id": "772666b3",
   "metadata": {},
   "source": [
    "## Aufgabe A: Erweitern um Feld für Geburtstag\n",
    "\n",
    "<div class=\"alert alert-warning\">\n",
    "<b>ToDo</b>: Fügen sie ein Feld für das Geburtsdatum in das Struct ein. Dazu müssen sie erst einen zugehörigen Typ / Struct für ein Datum einführen.\n",
    "</div>"
   ]
  },
  {
   "cell_type": "code",
   "execution_count": null,
   "id": "bac1eec0",
   "metadata": {
    "vscode": {
     "languageId": "plaintext"
    }
   },
   "outputs": [],
   "source": [
    "#include <iostream>\n",
    "#include <string>\n",
    "\n",
    "// Define a struct to represent a date\n",
    "struct Date\n",
    "{\n",
    "    int day;\n",
    "    int month;\n",
    "    int year;\n",
    "};\n",
    "\n",
    "// Define a struct to represent a student\n",
    "struct Student\n",
    "{\n",
    "    std::string name;\n",
    "    int age;\n",
    "    int studentID;\n",
    "    Date birthday; // Added birthday field of type Date\n",
    "};"
   ]
  },
  {
   "cell_type": "code",
   "execution_count": null,
   "id": "e542885a",
   "metadata": {
    "vscode": {
     "languageId": "plaintext"
    }
   },
   "outputs": [],
   "source": [
    "int main()\n",
    "{\n",
    "    // Create an instance of the Student struct\n",
    "    Student student1;\n",
    "\n",
    "    // Initialize the fields of the student struct\n",
    "    student1.name = \"Alice\";\n",
    "    student1.age = 20;\n",
    "    student1.studentID = 12345;\n",
    "    student1.birthday.day = 15;   // Set day\n",
    "    student1.birthday.month = 6;  // Set month\n",
    "    student1.birthday.year = 2000; // Set year\n",
    "\n",
    "    // Access and print the fields of the student struct\n",
    "    std::cout << \"Name: \" << student1.name << std::endl;\n",
    "    std::cout << \"Age: \" << student1.age << std::endl;\n",
    "    std::cout << \"Student ID: \" << student1.studentID << std::endl;\n",
    "    std::cout << \"Birthday: \" << student1.birthday.day << \"/\" << student1.birthday.month << \"/\" << student1.birthday.year << std::endl;\n",
    "\n",
    "    // Modify the fields of the student struct\n",
    "    student1.name = \"Alicia\";\n",
    "    student1.age = 21;\n",
    "    student1.birthday.year = 2001; // Modify year\n",
    "\n",
    "    // Access and print the modified fields of the student struct\n",
    "    std::cout << \"Modified Name: \" << student1.name << std::endl;\n",
    "    std::cout << \"Modified Age: \" << student1.age << std::endl;\n",
    "    std::cout << \"Modified Birthday: \" << student1.birthday.day << \"/\" << student1.birthday.month << \"/\" << student1.birthday.year << std::endl;\n",
    "\n",
    "    return 0;\n",
    "}"
   ]
  },
  {
   "cell_type": "code",
   "execution_count": null,
   "id": "ed96cfa5",
   "metadata": {
    "vscode": {
     "languageId": "plaintext"
    }
   },
   "outputs": [],
   "source": [
    "main();"
   ]
  },
  {
   "attachments": {},
   "cell_type": "markdown",
   "id": "099d0265",
   "metadata": {},
   "source": [
    "## Aufgabe B: Funktion zum errechnen des Alters\n",
    "\n",
    "Anstatt eines expliziten Feldes für das Alter, wollen wir dies nun ausrechnen. \n",
    "\n",
    "<div class=\"alert alert-warning\">\n",
    "<b>ToDo</b>: \n",
    "\n",
    "* Entfernen sie das Feld `age` und\n",
    "* führen sie eine Funktion ein, die das Alter des Studierenden errechnet.\n",
    "\n",
    "</div>\n",
    "\n",
    "Hierzu benötigen sie Funktionen, die auf das aktuelle Datum zugreifen - aus dem `std::chrono`:\n",
    "\n",
    "* std::chrono::system_clock::now(): Diese Funktion ruft das aktuelle Datum und die aktuelle Uhrzeit von der Systemuhr ab.\n",
    "* std::chrono::duration: Diese Klasse repräsentiert eine Dauer, wie zum Beispiel die Differenz zwischen zwei Datumsangaben.\n",
    "* std::chrono::time_point: Diese Klasse repräsentiert einen Zeitpunkt, wie zum Beispiel das aktuelle Datum und die aktuelle Uhrzeit, die mit std::chrono::system_clock::now() erhalten werden.\n",
    "* std::chrono::year_month_day: Diese Klasse repräsentiert ein Datum mit den Komponenten Jahr, Monat und Tag.\n",
    "* std::chrono::year: Diese Klasse repräsentiert ein Jahr.\n",
    "\n",
    "Zur Erinnerung -- über `?std::chrono` erhalten sie den entsprechenden Referenzeintrag.\n",
    "\n"
   ]
  },
  {
   "cell_type": "code",
   "execution_count": null,
   "id": "1a8cbab7",
   "metadata": {
    "vscode": {
     "languageId": "plaintext"
    }
   },
   "outputs": [],
   "source": [
    "#include <iostream>\n",
    "#include <string>\n",
    "#include <chrono>\n",
    "\n",
    "// Define a struct to represent a date\n",
    "struct Date\n",
    "{\n",
    "    int day;\n",
    "    int month;\n",
    "    int year;\n",
    "};\n",
    "\n",
    "// Define a struct to represent a student\n",
    "struct Student\n",
    "{\n",
    "    std::string name;\n",
    "    Date birthday; // Changed age field to birthday field of type Date\n",
    "    int studentID;\n",
    "};"
   ]
  },
  {
   "cell_type": "code",
   "execution_count": null,
   "id": "7a13243a",
   "metadata": {
    "vscode": {
     "languageId": "plaintext"
    }
   },
   "outputs": [],
   "source": [
    "\n",
    "// Function to calculate age (in years) from birthday and current date\n",
    "int calculateAge(const Date& birthday)\n",
    "{\n",
    "    // Get the current date and time from the system clock\n",
    "    auto currentTime = std::chrono::system_clock::now();\n",
    "\n",
    "    // Convert the current time to time_t to extract year, month, and day\n",
    "    std::time_t currentTime_t = std::chrono::system_clock::to_time_t(currentTime);\n",
    "    std::tm* currentTM = std::localtime(&currentTime_t);\n",
    "\n",
    "    // Extract the current year, month, and day\n",
    "    int currentYear = currentTM->tm_year + 1900; // Add 1900 to get actual year\n",
    "    int currentMonth = currentTM->tm_mon + 1; // Add 1 to get actual month (0-based index)\n",
    "    int currentDay = currentTM->tm_mday;\n",
    "\n",
    "    // Calculate the age (in years) by subtracting the birth year from the current year\n",
    "    int age = currentYear - birthday.year;\n",
    "\n",
    "    // Subtract 1 from the age if the birth month and day are later than the current month and day\n",
    "    if (currentMonth < birthday.month ||\n",
    "        (currentMonth == birthday.month && currentDay < birthday.day))\n",
    "    {\n",
    "        age--;\n",
    "    }\n",
    "\n",
    "    return age;\n",
    "}"
   ]
  },
  {
   "cell_type": "code",
   "execution_count": null,
   "id": "5f4bc3fd",
   "metadata": {
    "vscode": {
     "languageId": "plaintext"
    }
   },
   "outputs": [],
   "source": [
    "int main()\n",
    "{\n",
    "    // Create an instance of the Student struct\n",
    "    Student student1;\n",
    "\n",
    "    // Initialize the fields of the student struct\n",
    "    student1.name = \"Alice\";\n",
    "    student1.birthday.day = 15;\n",
    "    student1.birthday.month = 6;\n",
    "    student1.birthday.year = 2000;\n",
    "    student1.studentID = 12345;\n",
    "\n",
    "    // Calculate and print the age of the student\n",
    "    int age = calculateAge(student1.birthday);\n",
    "    std::cout << \"Name: \" << student1.name << std::endl;\n",
    "    std::cout << \"Birthday: \" << student1.birthday.day << \"/\" << student1.birthday.month << \"/\" << student1.birthday.year << std::endl;\n",
    "    std::cout << \"Age: \" << age << \" years\" << std::endl;\n",
    "\n",
    "    return 0;\n",
    "}"
   ]
  },
  {
   "cell_type": "code",
   "execution_count": null,
   "id": "cec44b94",
   "metadata": {
    "vscode": {
     "languageId": "plaintext"
    }
   },
   "outputs": [],
   "source": [
    "main()"
   ]
  }
 ],
 "metadata": {
  "kernelspec": {
   "display_name": "C++17",
   "language": "C++17",
   "name": "xcpp17"
  },
  "language_info": {
   "codemirror_mode": "text/x-c++src",
   "file_extension": ".cpp",
   "mimetype": "text/x-c++src",
   "name": "c++",
   "version": "17"
  }
 },
 "nbformat": 4,
 "nbformat_minor": 5
}
