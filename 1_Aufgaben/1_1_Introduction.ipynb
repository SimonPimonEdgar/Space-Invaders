{
 "cells": [
  {
   "attachments": {},
   "cell_type": "markdown",
   "id": "88726581-1895-47a2-82cb-3be74de74e54",
   "metadata": {
    "tags": []
   },
   "source": [
    "# Aufgaben Notebook 1\n",
    "\n",
    "Für die ersten Termine des Kurses nutzen wir jupyter-Notebooks, um C++ als interpretierten Code direkt im Browser laufen zu lassen. Dadurch entfallen natürlich die Optimierungsvorteile von C++ durch Kompilierung etc. Dies erlaubt aber so einen schnellen einfachen Einstieg. Die Umsetzung erfolgt über [Xeus-Cling](https://xeus-cling.readthedocs.io/en/latest/) und wir nutzen hierbei für diese allgemeinen Features einfach den C++17 Standard.\n",
    "\n",
    "Wichtig: Es gibt zwei Dinge, die zusätzlich dabei zu beachten sind:\n",
    "\n",
    "* Interpretieren eines Codeblocks im Notebook: `Shift` + `Enter` gleichzeitig drücken\n",
    "* Die `main`-Methode muss explizit aufgerufen werden.\n",
    "\n",
    "Dies Notebook kann auf dem JupyterHub der Universität direkt gestartet werden unter diesem [link](https://jupyterhub.wwu.de/hub/user-redirect/git-pull?repo=https%3A%2F%2Fzivgitlab.uni-muenster.de%2Fschillma%2Fcppcourse&urlpath=lab%2Ftree%2Fcppcourse%2F&branch=main) -- dabei muss das \"Software Development\" Image (3.0.1) ausgewählt werden.\n"
   ]
  },
  {
   "attachments": {},
   "cell_type": "markdown",
   "id": "0d815beb",
   "metadata": {},
   "source": [
    "## Jupyter notebooks\n",
    "\n",
    "Was sind Jupyter-Notebooks? Im Grunde ist die Verwendung von Jupyter-Notebooks vergleichbar mit der Verwendung eines Webbrowsers als eine Art Editor, mit dem sie Code direkt ausführen können. Wie bei jedem Editor wird der Code in Jupyter-Notebooks von C++ (oder meist Python) auf Ihrem Computer (oder auf einem entfernten Server) interpretiert und ausgeführt, und die Ergebnisse werden zur Anzeige zurückgegeben.\n",
    "\n",
    "So ermöglichen Notebooks, dass Code-\"Zellen\" und Text-\"Zellen\" (wie diese hier) miteinander gemischt werden können. Die (gedruckten) Ausgaben von Codeblöcken werden direkt unter den Codeblöcken selbst angezeigt. \n",
    "\n",
    "Jupyter-Notebooks haben zwei *Modi*: den Bearbeitungsmodus und den Befehlsmodus.\n",
    "\n",
    "* Der *Befehlsmodus* wird durch einen grauen Zellenrand mit einem blauen linken Rand angezeigt: Im Befehlsmodus können Sie das Notebook als Ganzes bearbeiten, aber nicht in einzelne Zellen tippen. Entscheidend im Befehlsmodus: über Shortcuts können sie das Notebook direkt ausführen und effizient Aktionen anwenden. Über **Esc** gelangen sie in den Modus oder wenn sie mit der Maus ausserhalb einer Zelle klicken.\n",
    "* Der *Bearbeitungsmodus* wird durch einen grünen Zellrand und eine Eingabeaufforderung im Editorbereich angezeigt: Wenn sich eine Zelle im Bearbeitungsmodus befindet, können sie wie in einem normalen Texteditor in die Zelle schreiben. Sie können den Bearbeitungsmodus aktivieren, indem Sie die Eingabetaste drücken oder mit der Maus auf den Editorbereich einer Zelle doppelklicken.\n",
    "\n",
    "Wenn sie die Tutorials lesen und durchblättern, werden sie sich meistens im Befehlsmodus befinden. Sobald sie aber selbst etwas programmieren (oder schreiben) müssen, müssen Sie in den Bearbeitungsmodus wechseln. Zunächst werden wir etwas über die beiden Arten von Zellen erklären: Codezellen und Textzellen."
   ]
  },
  {
   "attachments": {},
   "cell_type": "markdown",
   "id": "d2f481df",
   "metadata": {},
   "source": [
    "### Code-Zellen\n",
    "\n",
    "Codezellen sind der Platz, an dem sie Ihren Code schreiben können. Im Gegensatz zu interaktiven Editoren wie RStudio und MATLAB kann eine Codezelle in Jupyter-Notebooks nur auf einmal ausgeführt werden. Das bedeutet, dass sie sie nicht Zeile für Zeile ausführen können, sondern dass sie die gesamte Zelle ausführen müssen!\n",
    "\n",
    "#### Zellen ausführen\n",
    "\n",
    "Als Beispiel: Unten sehen sie eine Code-Zelle mit mit einer Ausgabe-Anweisung. Um die Zelle auszuführen, markieren sie diese (d.h. die Zelle sollte einen grünen oder blauen Rahmen haben; es spielt keine Rolle, ob Sie sich im Bearbeitungs- oder im Befehlsmodus befinden), und klicken Sie auf das \"&#9654; Ausführen\"-Symbol oder drücken Sie `ctr+Enter`). Probieren sie dies mit den nächsten beiden Zellen unten! Für C++ muss hier jeweils noch explizit die `main` Methode aufgerufen werden, da C++ an sich nicht eine interpretierte Sprache ist."
   ]
  },
  {
   "cell_type": "code",
   "execution_count": 4,
   "id": "fb60f57d-ed1a-4b81-819c-5fb6fc69fc72",
   "metadata": {
    "tags": []
   },
   "outputs": [],
   "source": [
    "#include <iostream>\n",
    "\n",
    "int main() {\n",
    "    std::cout << \"Hello World!\";\n",
    "    return 0;\n",
    "}"
   ]
  },
  {
   "cell_type": "code",
   "execution_count": 6,
   "id": "e48bc183-a379-4bb5-b279-146a87a2ff42",
   "metadata": {
    "tags": []
   },
   "outputs": [
    {
     "name": "stdout",
     "output_type": "stream",
     "text": [
      "Hello World!"
     ]
    },
    {
     "data": {
      "text/plain": [
       "0"
      ]
     },
     "execution_count": 6,
     "metadata": {},
     "output_type": "execute_result"
    }
   ],
   "source": [
    "// In addition, we have to explicitly call the main() function instead of executing the program.\n",
    "main();\n",
    "// It is important that you compute these two cells in the correct order!"
   ]
  },
  {
   "attachments": {},
   "cell_type": "markdown",
   "id": "d3cc2239",
   "metadata": {},
   "source": [
    "#### Ausführung von Zellen stoppen\n",
    "\n",
    "Wenn sie die Ausführung einer Code-Zelle beenden wollen, weil sie zu lange dauert (oder schlimmer noch, sie haben eine Endlosschleife erzeugt!): Klicken Sie dazu auf das Stop-Symbol &#9632; im oberen Menü!"
   ]
  },
  {
   "attachments": {},
   "cell_type": "markdown",
   "id": "699fd9ba",
   "metadata": {},
   "source": [
    "#### Neustart des Kernels\n",
    "\n",
    "Manchmal stürzt ein Notebook ab, z. B. wenn eine Endlosschleife entsteht oder wenn zu viele Daten geladen werden. Sie wissen, dass Ihr Notebook 'abgestürzt' ist, wenn das Anhalten der Zelle (&#9632;) nicht funktioniert und Ihre Zelle ihre Ausführung fortsetzt, was durch die Eingabeaufforderung `In [*]:` neben der Zelle angezeigt wird. In solchen Fällen müssen Sie das Notebook komplett neu starten (Sie müssen den \"Kernel neu starten\"). Dazu klicken Sie auf `Kernel` und `Neustart`.\n",
    "\n",
    "Wichtig ist, dass beim Neustart des Kernels der gesamte Text/Code, den Sie geschrieben haben, erhalten bleibt, aber er merkt sich **nicht** alle Variablen, die Sie vor dem Neustart des Kernels definiert haben."
   ]
  },
  {
   "attachments": {},
   "cell_type": "markdown",
   "id": "ee20b3a0",
   "metadata": {},
   "source": [
    "#### Zellen einfügen\n",
    "\n",
    "Wie oben gesehen, können Sie nur die gesamte Zelle ausführen. Manchmal möchten Sie natürlich den Code über mehrere Zellen hinweg organisieren. Dazu können Sie einfach neue Blöcke (Zellen) einfügen, indem Sie in der Symbolleiste \"Einfügen &rarr; Zelle darunter einfügen\" wählen (oder das Tastenkürzel verwenden, indem Sie im Befehlsmodus die Taste \"B\" drücken; \"B\" steht für \"**b**unten\"). Dadurch wird eine neue Codezelle unterhalb der markierten Zelle eingefügt (die markierte Zelle ist mit einem blauen Rahmen umgeben)."
   ]
  },
  {
   "attachments": {},
   "cell_type": "markdown",
   "id": "47783af7",
   "metadata": {},
   "source": [
    "## Hilfe zu C++\n",
    "\n",
    "Sie können direkt in Codezellen auch auf die Referenz für die Standard-Library zu C++ zugreifen, in dem sie einfach ein Fragezeichen gefolgt von dem entsprechenden Begriff angeben:\n",
    "\n",
    "`?std::vector` schlägt in der Referenz zu `vector` nach (dies dauert ein paar Sekunden)."
   ]
  }
 ],
 "metadata": {
  "kernelspec": {
   "display_name": "C++17",
   "language": "C++17",
   "name": "xcpp17"
  },
  "language_info": {
   "codemirror_mode": "text/x-c++src",
   "file_extension": ".cpp",
   "mimetype": "text/x-c++src",
   "name": "c++",
   "version": "17"
  }
 },
 "nbformat": 4,
 "nbformat_minor": 5
}
