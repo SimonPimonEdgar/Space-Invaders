{
 "cells": [
  {
   "attachments": {},
   "cell_type": "markdown",
   "id": "efd66d3b",
   "metadata": {},
   "source": [
    "# 2.3 Pointer und Referenzen \n",
    "\n",
    "Im folgenden sollen sie an einem kleinen Beispiel einmal den Einsatz von Referenzen und Pointern einüben und dazu die Anwendung von *call by value* (Übergabe des Wertes als Kopie an eine Funktion) einmal ansehen.\n",
    "\n",
    "Im untenstehenden Code wird eine swap-Funktion definiert.\n",
    "\n",
    "Als Hilfe: [C++ Referenz](https://cppvorlesung.wwu.de/lecture/language/memory.html).\n",
    "\n",
    "## Unterschiede zwischen Pointern & Referenzen\n",
    "\n",
    "|                            | Pointer    | Referenzen |\n",
    "|----------------------------|------------|------------|\n",
    "| Initialisierung            |`int* ip = &i;` | `int& ir = i;` |\n",
    "| Zugriff lesend             | `*ip`      | `ir` |\n",
    "| Zugriff schreibend         | `*ip = 5;` | `ir = 5;` |\n",
    "| Kann ins „Nichts“ zeigen   | Ja         | Nein |\n",
    "| Kann neu zugewiesen werden | Ja         | Nein |"
   ]
  },
  {
   "attachments": {},
   "cell_type": "markdown",
   "id": "bd39a331",
   "metadata": {},
   "source": [
    "## Aufgabe: swap Funktion\n",
    "\n",
    "<div class=\"alert alert-warning\">\n",
    "<b>ToDo</b>: \n",
    "\n",
    "* Was tut die zuerst angegebene Funktion? \n",
    "* Führen sie zwei swap-Funktionen ein, die jeweils die Werte der Variablen tauschen.\n",
    "    * einmal mit Hilfe von Referenzen\n",
    "    * einmal mit Hilfe von Pointern.\n",
    "\n",
    "</div>"
   ]
  },
  {
   "cell_type": "code",
   "execution_count": null,
   "id": "0906b810",
   "metadata": {
    "vscode": {
     "languageId": "plaintext"
    }
   },
   "outputs": [],
   "source": [
    "void swap_1(int x, int y)\n",
    "{\n",
    "  int h = x;\n",
    "  x = y; y = h;\n",
    "}"
   ]
  },
  {
   "cell_type": "code",
   "execution_count": null,
   "id": "ae15029c",
   "metadata": {
    "vscode": {
     "languageId": "plaintext"
    }
   },
   "outputs": [],
   "source": [
    "// TODO: zu implementieren\n",
    "void swap_ref(int& x, int& y);"
   ]
  },
  {
   "cell_type": "code",
   "execution_count": null,
   "id": "3f5347a1",
   "metadata": {
    "vscode": {
     "languageId": "plaintext"
    }
   },
   "outputs": [],
   "source": [
    "// TODO: zu implementieren\n",
    "void swap_ptr(int* x, int* y);"
   ]
  },
  {
   "cell_type": "code",
   "execution_count": null,
   "id": "7aac6eb1",
   "metadata": {
    "vscode": {
     "languageId": "plaintext"
    }
   },
   "outputs": [],
   "source": [
    "#include <iostream>\n",
    "\n",
    "int main () {\n",
    "    int a = 42;\n",
    "    int b = 7;\n",
    "    swap_1( a, b );\n",
    "    std::cout << \"Swap 1   = a: \" << a << \" , b: \" << b << std::endl;\n",
    "    // Die folgenden Funktionen muessen noch implementiert werden.\n",
    "    //a = 42; b = 7;\n",
    "    //swap_ref( a, b );\n",
    "    //std::cout << \"Swap Ref = a: \" << a << \" , b: \" << b << std::endl;\n",
    "    //a = 42; b = 7;\n",
    "    //swap_ptr( &a, &b );\n",
    "    //std::cout << \"Swap Ptr = a: \" << a << \" , b: \" << b << std::endl;\n",
    "}"
   ]
  },
  {
   "cell_type": "code",
   "execution_count": null,
   "id": "eb2358a4",
   "metadata": {
    "vscode": {
     "languageId": "plaintext"
    }
   },
   "outputs": [],
   "source": [
    "main()"
   ]
  },
  {
   "attachments": {},
   "cell_type": "markdown",
   "id": "0e0a6b06",
   "metadata": {},
   "source": [
    "## Aufgabe: Bubblesort\n",
    "\n",
    "Im folgenden soll die swap-Funktion (Referenzen nutzend, siehe Anmerkung unten) von oben angewandt werden zur Sortierung eines Arrays von `int`. Dafür soll ein Bubblesort Algorithmus implementiert werden:\n",
    "\n",
    "### Bubblesort\n",
    "\n",
    "Bubblesort ist ein einfacher vergleichsbasierter Sortieralgorithmus, der wiederholt durch das Array iteriert, benachbarte Elemente vergleicht und sie vertauscht, wenn sie in der falschen Reihenfolge stehen. Der Algorithmus hat seinen Namen von der Art und Weise, wie kleinere Elemente während jedes Durchlaufs nach oben \"aufsteigen\", während größere Elemente nach unten \"sinken\".\n",
    "\n",
    "![Bubblesort Animation](images/Bubble-sort-example-300px.gif)\n",
    "*Swfung8, CC BY-SA 3.0 <https://creativecommons.org/licenses/by-sa/3.0>, via Wikimedia Commons*\n",
    "\n",
    "#### Algorithmus:\n",
    "\n",
    "1. Starte mit dem ersten Element des Arrays.\n",
    "2. Vergleiche es mit dem nächsten Element.\n",
    "3. Wenn das aktuelle Element größer ist als das nächste Element, tausche sie.\n",
    "4. Gehe zum nächsten Element und wiederhole Schritte 2-3, bis das Ende des Arrays erreicht ist.\n",
    "5. Nach dem ersten Durchlauf wird das größte Element an die letzte Position im Array \"hochsteigen\".\n",
    "6. Wiederhole Schritte 2-5 für den verbleibenden unsortierten Teil des Arrays, bis das gesamte Array sortiert ist.\n",
    "\n",
    "**Schlechteste Fallkomplexität = $O(n^2)$:** Der schlechteste Fall tritt auf, wenn das Array in umgekehrter Reihenfolge sortiert ist und jedes Paar benachbarter Elemente in jedem Durchlauf vertauscht werden muss.\n",
    "\n",
    "**Beste Fallkomplexität = $O(n)$**\n",
    "Der beste Fall tritt auf, wenn das Array bereits sortiert ist und keine Vertauschungen während irgendeines Durchlaufs erforderlich sind. \n",
    "\n",
    "Bubblesort ist für große Arrays aufgrund seiner quadratischen Zeitkomplexität nicht effizient und andere effizientere Sortieralgorithmen wie Quick Sort oder Merge Sort werden in der Praxis für größere Datensätze bevorzugt.\n",
    "\n",
    "<div class=\"alert alert-warning\">\n",
    "    <b>ToDo</b>: \n",
    "    \n",
    "* Implementieren sie bubble sort unter Verwendung der swap Funktion.\n",
    "* Überlegen sie, wie sie bei einer schon sortierten (oder relativ gut vorsortierten) Liste die Laufzeit verbessern können.\n",
    "\n",
    "</div>"
   ]
  },
  {
   "cell_type": "code",
   "execution_count": null,
   "id": "3e607598",
   "metadata": {
    "vscode": {
     "languageId": "plaintext"
    }
   },
   "outputs": [],
   "source": [
    "#include <iostream>\n",
    "\n",
    "void swap(int& a, int& b) {\n",
    "    int temp = a;\n",
    "    a = b;\n",
    "    b = temp;\n",
    "}"
   ]
  },
  {
   "cell_type": "code",
   "execution_count": null,
   "id": "3388f23b",
   "metadata": {
    "vscode": {
     "languageId": "plaintext"
    }
   },
   "outputs": [],
   "source": [
    "void bubbleSort(int arr[], int size);"
   ]
  },
  {
   "cell_type": "code",
   "execution_count": null,
   "id": "7b3247b7",
   "metadata": {
    "vscode": {
     "languageId": "plaintext"
    }
   },
   "outputs": [],
   "source": [
    "// main zum testen ihrer Funktion\n",
    "int main() {\n",
    "    int arr[] = { 1, 2, 3, 4, 5 }; // bereits sortiertes Array\n",
    "    int size = sizeof(arr) / sizeof(arr[0]); // Größe des Arrays\n",
    "\n",
    "    std::cout << \"Vor der Sortierung: \" << std::endl;\n",
    "    for (int i = 0; i < size; ++i) {\n",
    "        std::cout << arr[i] << \" \";\n",
    "    }\n",
    "    std::cout << std::endl;\n",
    "    // Array sortieren\n",
    "    bubbleSort(arr, size);\n",
    "\n",
    "    std::cout << \"Nach der Sortierung: \" << std::endl;\n",
    "    for (int i = 0; i < size; ++i) {\n",
    "        std::cout << arr[i] << \" \";\n",
    "    }\n",
    "    std::cout << std::endl;\n",
    "\n",
    "    return 0;\n",
    "}"
   ]
  },
  {
   "cell_type": "code",
   "execution_count": null,
   "id": "fb541758",
   "metadata": {
    "vscode": {
     "languageId": "plaintext"
    }
   },
   "outputs": [],
   "source": [
    "main()"
   ]
  },
  {
   "attachments": {},
   "cell_type": "markdown",
   "id": "08dec48c",
   "metadata": {},
   "source": [
    "\n",
    "## Anmerkung: Bevorzugung von Referenzen\n",
    "\n",
    "Im bereitgestellten Beispiel der Swap-Funktion in der Bubblesort-Implementierung wurden Referenzen anstelle von Pointern verwendet, um die Werte von zwei `int`'s zu vertauschen.\n",
    "\n",
    "Der Grund für die Verwendung von Referenzen anstelle von Pointern liegt darin, dass Referenzen in C++ eine bequemere und sicherere Möglichkeit bieten, auf ein Objekt zu verweisen, ohne dass eine explizite Dereferenzierung mit dem `*`-Operator erforderlich ist. Referenzen sind ähnlich wie Pointer, da sie ermöglichen, auf indirektem Wege auf den Wert eines Objekts zuzugreifen und ihn zu ändern, bieten jedoch einige zusätzliche Vorteile:\n",
    "\n",
    "1. Vereinfachte Syntax: Referenzen verwenden eine einfachere Syntax im Vergleich zu Pointern. Während Pointer eine explizite Dereferenzierung mit dem `*`-Operator erfordern, können Referenzen direkt verwendet werden, als ob sie das Originalobjekt wären.\n",
    "2. Automatische Null-Überprüfung: Anders als Pointer können Referenzen nicht null oder nicht initialisiert sein, was das Dereferenzieren von null oder nicht initialisierten Pointern verhindert, was zu undefiniertem Verhalten führen kann.\n",
    "3. Automatisches Speichermanagement: Referenzen erfordern keine Speicherzuweisung oder -freigabe, da sie lediglich Aliasnamen für vorhandene Objekte sind. Dies beseitigt die Notwendigkeit von Speicherverwaltungsvorgängen wie new und delete, was dazu beitragen kann, Speicherlecks oder andere speicherbezogene Probleme zu verhindern.\n",
    "4. Typsicherheit: Referenzen sind typsicher, da sie mit einem Objekt desselben Typs initialisiert werden müssen und nicht erneut auf Objekte eines anderen Typs zugewiesen werden können. Pointer hingegen können auf Objekte unterschiedlicher Typen neu zugewiesen werden, was zu typbezogenen Fehlern führen kann.\n",
    "\n",
    "Im Allgemeinen wird empfohlen, Referenzen gegenüber Pointern zu verwenden, wenn dies möglich ist, da sie eine bequemere und sicherere Möglichkeit bieten, indirekt auf Objekte in C++-Programmen zu arbeiten. Es kann jedoch Fälle geben, in denen Pointer bevorzugt werden, z. B. beim Umgang mit dynamischer Speicherzuweisung oder beim Übergeben von Funktionspointern. Im gegebenen Bubble-Sort-Beispiel wurden jedoch Referenzen aus Gründen der Einfachheit und Sicherheit verwendet.\n",
    "\n"
   ]
  }
 ],
 "metadata": {
  "kernelspec": {
   "display_name": "C++17",
   "language": "C++17",
   "name": "xcpp17"
  },
  "language_info": {
   "codemirror_mode": "text/x-c++src",
   "file_extension": ".cpp",
   "mimetype": "text/x-c++src",
   "name": "c++",
   "version": "17"
  }
 },
 "nbformat": 4,
 "nbformat_minor": 5
}
