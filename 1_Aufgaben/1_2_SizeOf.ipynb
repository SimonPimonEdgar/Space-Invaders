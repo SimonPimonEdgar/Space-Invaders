{
 "cells": [
  {
   "attachments": {},
   "cell_type": "markdown",
   "id": "5d569810",
   "metadata": {},
   "source": [
    "# 1.2 Ausgabe Datentypen\n",
    "\n",
    "Geben Sie die Größe der folgenden Datentypen auf Ihrem System aus: • char\n",
    "\n",
    "* short\n",
    "* int\n",
    "* long\n",
    "* long long\n",
    "* float\n",
    "* double\n",
    "* long double\n",
    "\n",
    "Nutzen Sie den sizeof-Operator (Hilfe: [im Basics Teil](https://cppvorlesung.wwu.de/lecture/language/basics.html)).\n",
    "\n",
    "## Ausgabe mit printf in C\n",
    "\n",
    "Wie gibt man den Wert einer Zahl n aus?\n",
    "\n",
    "* Der Ausgabe-String der printf-Funktion darf Platzhalter enthalten, z. B. `%i`\n",
    "für Integer-Typen und `%f` für Fließkommazahlen.\n",
    "* Die Platzhalter werden durch zusätzliche Argumente von printf ersetzt. "
   ]
  },
  {
   "cell_type": "code",
   "execution_count": null,
   "id": "78918530",
   "metadata": {
    "vscode": {
     "languageId": "plaintext"
    }
   },
   "outputs": [],
   "source": [
    "#include <iostream>\n",
    "\n",
    "int main() { \n",
    "    char c;\n",
    "    short s;\n",
    "    int i;\n",
    "    // Bestimmen von sizeof und ausgeben Groesse mit size of\n",
    "    ...\n",
    "    return 0;\n",
    "}"
   ]
  },
  {
   "attachments": {},
   "cell_type": "markdown",
   "id": "9d9036d1",
   "metadata": {},
   "source": [
    "Folgend eine mögliche Lösung:"
   ]
  },
  {
   "cell_type": "code",
   "execution_count": null,
   "id": "822a9716",
   "metadata": {
    "tags": [
     "hide-cell"
    ],
    "vscode": {
     "languageId": "plaintext"
    }
   },
   "outputs": [],
   "source": [
    "//In C use: #include <stdio.h>\n",
    "#include <iostream>\n",
    "\n",
    "int main() { \n",
    "    char c;\n",
    "    short s;\n",
    "    int i;\n",
    "    /* sizeof kann auf Variablen ... */\n",
    "    // In C use: printf(\"char:         %lu\\n\", sizeof(c));\n",
    "    std::cout << \"char:        \" << sizeof(c) << std::endl;\n",
    "    std::cout << \"short:       \" << sizeof(s) << std::endl;\n",
    "    std::cout << \"int:         \" << sizeof(i) << std::endl;\n",
    "    /* ... oder Datentypen angewandt werden */\n",
    "    std::cout << \"long:        \" << sizeof(unsigned long) << std::endl;\n",
    "    std::cout << \"long long:   \" << sizeof(long long) << std::endl;\n",
    "    std::cout << \"float:       \" << sizeof(float) << std::endl;\n",
    "    std::cout << \"double:      \" << sizeof(double) << std::endl;\n",
    "    std::cout << \"long double: \" << sizeof(long double) << std::endl;\n",
    "    return 0;\n",
    "}"
   ]
  }
 ],
 "metadata": {
  "kernelspec": {
   "display_name": "C++17",
   "language": "C++17",
   "name": "xcpp17"
  },
  "language_info": {
   "codemirror_mode": "text/x-c++src",
   "file_extension": ".cpp",
   "mimetype": "text/x-c++src",
   "name": "c++",
   "version": "17"
  }
 },
 "nbformat": 4,
 "nbformat_minor": 5
}
