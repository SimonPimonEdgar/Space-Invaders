{
 "cells": [
  {
   "attachments": {},
   "cell_type": "markdown",
   "id": "8427e01e",
   "metadata": {},
   "source": [
    "## 1.5 Aufgabe (Zusatz): Primzahlzerlegung\n",
    "\n",
    "Implementieren sie eine Funktion, welche eine Zahl in  Primzahlfaktoren zerlegt und diese ausgibt. Benutzen Sie dabei in zwei verschiedenen Varianten einen\n",
    "\n",
    "* einen iterativen Algorithmus und dann\n",
    "* einen rekursiven Algorithmus.\n",
    "\n",
    "Hinweise:\n",
    "\n",
    "* Eine Zahl ist durch eine andere teilbar, wenn der Teilrest der Division “0” ergibt (operator `%`)\n",
    "* Eine Primzahl kann mehrfach vorkommen.\n",
    "* Wählen Sie eine geeignete Abbruchbedingung."
   ]
  },
  {
   "cell_type": "code",
   "execution_count": null,
   "id": "d5c556b7",
   "metadata": {
    "vscode": {
     "languageId": "plaintext"
    }
   },
   "outputs": [],
   "source": [
    "#include <stdlib.h>\n",
    "#include <iostream>\n",
    "\n",
    "void printPrimes(int number)\n",
    "{\n",
    "    // ...\n",
    "}\n"
   ]
  },
  {
   "cell_type": "code",
   "execution_count": null,
   "id": "f593a10f",
   "metadata": {
    "vscode": {
     "languageId": "plaintext"
    }
   },
   "outputs": [],
   "source": [
    "int main()\n",
    "{\n",
    "    printPrimes(120);\n",
    "}"
   ]
  },
  {
   "attachments": {},
   "cell_type": "markdown",
   "id": "a0537547",
   "metadata": {},
   "source": [
    "Lösungsbeispiel findet sich im [Jupyter-Book](https://www.uni-muenster.de/AISystems/courses/CPP/site/html/intro.html)."
   ]
  },
  {
   "cell_type": "code",
   "execution_count": null,
   "id": "ea56f027",
   "metadata": {
    "tags": [],
    "vscode": {
     "languageId": "plaintext"
    }
   },
   "outputs": [],
   "source": [
    "main()"
   ]
  }
 ],
 "metadata": {
  "kernelspec": {
   "display_name": "C++17",
   "language": "C++17",
   "name": "xcpp17"
  },
  "language_info": {
   "codemirror_mode": "text/x-c++src",
   "file_extension": ".cpp",
   "mimetype": "text/x-c++src",
   "name": "c++",
   "version": "17"
  }
 },
 "nbformat": 4,
 "nbformat_minor": 5
}
