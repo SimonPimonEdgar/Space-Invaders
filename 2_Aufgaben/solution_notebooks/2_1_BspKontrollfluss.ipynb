{
 "cells": [
  {
   "attachments": {},
   "cell_type": "markdown",
   "id": "efd66d3b",
   "metadata": {},
   "source": [
    "# 2.1 Kontrollfluss Beispiel -- Suche \n",
    "\n",
    "## Kontrollfluss\n",
    "\n",
    "Zur Steuerung des Kontrollflusses stehen verschiedene Anweisungen zur Verfügung:\n",
    "\n",
    "* Bedingte Ausführung\n",
    "    * if-else\n",
    "    * switch-case\n",
    "* Schleifen\n",
    "    * for\n",
    "    * while\n",
    "    *do-while\n",
    "* Sprünge\n",
    "    * goto und Spungmarken\n",
    "\n",
    "In diesem Beispiel wird dies einmal für eine einfache Suche in einem Array realisiert und demonstriert.\n",
    "\n",
    "## Aufgabe: Suche nach einem Eintrag in einem Array \n",
    "\n",
    "Gegeben Sei ein Array von “int” Zahlen. Schreiben Sie eine allgemeine Funktion “search”, welche die Zahlen durchsucht. Eine Funktion “search” soll als Parameter zunächst die Anzahl der Elemente im Array, dann das Array selbst und zuletzt das zu suchende Element als Argument haben. Die Funktion soll den Index (0 basiert) im Array zurückliefern, an dem das Element gefunden wurde. \n",
    "Überlegen sie, was ein guter Rückgabewert ist, wenn der Eintrag nicht gefunden wurde.\n",
    "\n",
    "Überladen Sie die Funktion “search” mit einer weiteren Variante, die als letzten Parameter statt des zu suchenden Elements eine Prädikatsfunktion nimmt. Die Prädikatsfunktion ist eine Funktion, die ein zu testendes Element übergeben bekommt und “true” zurückgibt, wenn das zu testende Element das richtige ist. Definieren Sie einen geeigneten Typ für die Prädikatsfunktion (typedef).\n",
    "\n",
    "Wichtig: die vers. Funktionen und Typdefinitionen müssen in einzelnen Blöcken durchgeführt werden.\n",
    "\n",
    "Als Hilfe: [Vergleichsoperatoren](https://cppvorlesung.uni-muenster.de/lecture/language/expressions.html), [Kontrollstrukturen](https://cppvorlesung.uni-muenster.de/lecture/language/statements.html#control-structures)."
   ]
  },
  {
   "cell_type": "code",
   "execution_count": null,
   "id": "0906b810",
   "metadata": {
    "vscode": {
     "languageId": "plaintext"
    }
   },
   "outputs": [],
   "source": [
    "// Search Funktion mit Übergabe der Parameter - letzter Parameter ist der zu suchende Eintrag\n",
    "int search(int num, int numbers[], int number)\n",
    "{\n",
    "    for (int i = 0; i < num; ++i)\n",
    "        if (numbers[i] == number)\n",
    "            return i;\n",
    "            \n",
    "    return -1;\n",
    "}"
   ]
  },
  {
   "cell_type": "code",
   "execution_count": null,
   "id": "7aac6eb1",
   "metadata": {
    "vscode": {
     "languageId": "plaintext"
    }
   },
   "outputs": [],
   "source": [
    "// Definition des SearchPredicate Typs\n",
    "typedef bool (*SearchPredicate)(int);"
   ]
  },
  {
   "cell_type": "code",
   "execution_count": null,
   "id": "583a7683",
   "metadata": {
    "vscode": {
     "languageId": "plaintext"
    }
   },
   "outputs": [],
   "source": [
    "// Beispiel Search-Predicate\n",
    "bool findFive(int x) { return x == 5; }"
   ]
  },
  {
   "cell_type": "code",
   "execution_count": null,
   "id": "30b3321e",
   "metadata": {
    "vscode": {
     "languageId": "plaintext"
    }
   },
   "outputs": [],
   "source": [
    "// Beispiel Search-Predicate\n",
    "bool findFour(int x) { return x == 4; }"
   ]
  },
  {
   "cell_type": "code",
   "execution_count": null,
   "id": "f442fb95",
   "metadata": {
    "vscode": {
     "languageId": "plaintext"
    }
   },
   "outputs": [],
   "source": [
    "// Überladen der Search Funktion mit Übergabe eines SearchPredicate als letzten Parameter\n",
    "int search(int num, int numbers[], SearchPredicate pred)\n",
    "{\n",
    "    for (int i = 0; i < num; ++i)\n",
    "        if (pred(numbers[i]))\n",
    "            return i;\n",
    "            \n",
    "    return -1;\n",
    "}"
   ]
  },
  {
   "cell_type": "code",
   "execution_count": null,
   "id": "58459cb7",
   "metadata": {
    "vscode": {
     "languageId": "plaintext"
    }
   },
   "outputs": [],
   "source": [
    "#include <iostream>\n",
    "\n",
    "int arr[] = {5,2,3,4,1,7,19,3};\n",
    "std::cout << search( sizeof(arr)/sizeof(int), arr, 19) << std::endl;\n",
    "std::cout << search( sizeof(arr)/sizeof(int), arr, findFour) << std::endl;"
   ]
  },
  {
   "attachments": {},
   "cell_type": "markdown",
   "id": "772666b3",
   "metadata": {},
   "source": [
    "## Anmerkungen / Fragen\n",
    "\n",
    "* Was ist eine geeignete Rückgabe für die Funktion?\n",
    "* Wie würden sie die Funktion anpassen auf einem Array eines anderen Datentyps?\n",
    "* Wie würden sie die Funktion anpassen, wenn sie den letzten Eintrag im Array zurückgeben wollen?\n",
    "* Was ist der Typ von SearchPredicate?"
   ]
  },
  {
   "attachments": {},
   "cell_type": "markdown",
   "id": "e92c3003",
   "metadata": {},
   "source": [
    "Diese Aufgabe wurde angepasst aus dem [Uni C++ Kurs](https://cppvorlesung.uni-muenster.de/exercises/exercises4.html) übernommen."
   ]
  },
  {
   "cell_type": "markdown",
   "id": "06c4dab4",
   "metadata": {},
   "source": []
  }
 ],
 "metadata": {
  "kernelspec": {
   "display_name": "C++17",
   "language": "C++17",
   "name": "xcpp17"
  },
  "language_info": {
   "codemirror_mode": "text/x-c++src",
   "file_extension": ".cpp",
   "mimetype": "text/x-c++src",
   "name": "c++",
   "version": "17"
  }
 },
 "nbformat": 4,
 "nbformat_minor": 5
}
