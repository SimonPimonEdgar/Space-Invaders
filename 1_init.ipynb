{
 "cells": [
  {
   "cell_type": "markdown",
   "id": "88726581-1895-47a2-82cb-3be74de74e54",
   "metadata": {
    "tags": []
   },
   "source": [
    "# Running C++ in the Browser\n",
    "\n",
    "Für die ersten Termine des Kurses nutzen wir jupyter-Notebooks, um C++ als interpretierten Code direkt im Browser laufen zu lassen. Dadurch entfallen natürlich die Optimierungsvorteile von C++ durch Kompilierung etc. Dies erlaubt aber so einen schnellen einfachen Einstieg. Die Umsetzung erfolgt über [Xeus-Cling](https://xeus-cling.readthedocs.io/en/latest/) und wir nutzen hierbei für diese allgemeinen Features einfach den C++17 Standard.\n",
    "\n",
    "Wichtig: Es gibt zwei Dinge, die zusätzlich dabei zu beachten sind:\n",
    "\n",
    "* Interpretieren eines Codeblocks im Notebook: `Shift` + `Enter` gleichzeitig drücken\n",
    "* Die `main`-Methode muss explizit aufgerufen werden.\n"
   ]
  },
  {
   "cell_type": "code",
   "execution_count": 4,
   "id": "fb60f57d-ed1a-4b81-819c-5fb6fc69fc72",
   "metadata": {
    "tags": []
   },
   "outputs": [],
   "source": [
    "#include <iostream>\n",
    "\n",
    "int main() {\n",
    "    std::cout << \"Hello World!\";\n",
    "    return 0;\n",
    "}"
   ]
  },
  {
   "cell_type": "code",
   "execution_count": 6,
   "id": "e48bc183-a379-4bb5-b279-146a87a2ff42",
   "metadata": {
    "tags": []
   },
   "outputs": [
    {
     "name": "stdout",
     "output_type": "stream",
     "text": [
      "Hello World!"
     ]
    },
    {
     "data": {
      "text/plain": [
       "0"
      ]
     },
     "execution_count": 6,
     "metadata": {},
     "output_type": "execute_result"
    }
   ],
   "source": [
    "// In addition, we have to explicitly call the main() function instead of executing the program.\n",
    "main();\n",
    "// It is important that you compute these two cells in the correct order!"
   ]
  },
  {
   "cell_type": "markdown",
   "id": "63d337c0-e116-4d5f-b175-d21f203c549b",
   "metadata": {},
   "source": [
    "## Help on C++"
   ]
  }
 ],
 "metadata": {
  "kernelspec": {
   "display_name": "C++17",
   "language": "C++17",
   "name": "xcpp17"
  },
  "language_info": {
   "codemirror_mode": "text/x-c++src",
   "file_extension": ".cpp",
   "mimetype": "text/x-c++src",
   "name": "c++",
   "version": "17"
  }
 },
 "nbformat": 4,
 "nbformat_minor": 5
}
