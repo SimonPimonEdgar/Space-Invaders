{
 "cells": [
  {
   "attachments": {},
   "cell_type": "markdown",
   "id": "efd66d3b",
   "metadata": {},
   "source": [
    "# 3.2 Templates, Container und Iteratoren\n",
    "\n",
    "In dieser Aufgabe soll der Umgang mit Template (am Beispiel einer Template Funktion) und mit Containern erarbeitet werden. Hierzu gehört der Zugriff auf Container über Iteratoren.\n",
    "\n",
    "## Aufgabe A: Template Funktion\n",
    "\n",
    "<div class=\"alert alert-warning\">\n",
    "<b>ToDo</b>: \n",
    "\n",
    "Setzen sie eine allgemeine Funktion um,\n",
    "\n",
    "* die auf `std::out` den größeren von zwei übergebenen Werten ausgibt\n",
    "* und den kleineren als Rückgabewert zurückliefert.\n",
    "\n",
    "</div>\n",
    "\n",
    "Als Hilfe können sie Erklärungen zu [Templates hier](https://cppvorlesung.wwu.de/lecture/language/templates.html) nachlesen."
   ]
  },
  {
   "cell_type": "code",
   "execution_count": null,
   "id": "0906b810",
   "metadata": {
    "vscode": {
     "languageId": "plaintext"
    }
   },
   "outputs": [],
   "source": [
    "// Deklarieren und definieren sie die Funktion als Template Funktion\n",
    "printMaxReturnMin();"
   ]
  },
  {
   "cell_type": "code",
   "execution_count": null,
   "id": "e1673c9e",
   "metadata": {
    "vscode": {
     "languageId": "plaintext"
    }
   },
   "outputs": [],
   "source": [
    "#include <iostream>\n",
    "\n",
    "// Testen der Template Funktion\n",
    "\n",
    "int main () {\n",
    "  int i = 39;\n",
    "  int j = 20;\n",
    "  auto k = printMaxReturnMin(i,j);\n",
    "\n",
    "  double a = 13.5;\n",
    "  double b = 20.7;\n",
    "  auto c = printMaxReturnMin(a,b);\n",
    "}"
   ]
  },
  {
   "cell_type": "code",
   "execution_count": null,
   "id": "961998b4",
   "metadata": {
    "vscode": {
     "languageId": "plaintext"
    }
   },
   "outputs": [],
   "source": [
    "main()"
   ]
  },
  {
   "attachments": {},
   "cell_type": "markdown",
   "id": "137a935b",
   "metadata": {},
   "source": [
    "## Aufgabe B: Erweitern der Funktion auf einen vector\n",
    "\n",
    "Die oben implementierte Funktion soll nun statt zwei Argumenten einen `vector` mit Elementen des Typs `T` erhalten.\n",
    "\n",
    "<div class=\"alert alert-warning\">\n",
    "\n",
    "<b>ToDo</b>:\n",
    "\n",
    "Erweitern sie so die Funktion, dass\n",
    "\n",
    "* auf `std::out` das größte Element des vectors ausgegeben wird\n",
    "* und das kleinste als Rückgabewert zurückgliefert wird.\n",
    "\n",
    "</div>"
   ]
  },
  {
   "cell_type": "code",
   "execution_count": null,
   "id": "6fb37ac8",
   "metadata": {
    "vscode": {
     "languageId": "plaintext"
    }
   },
   "outputs": [],
   "source": [
    "// Deklarieren und definieren sie die Funktion als Template Funktion\n",
    "template <typename T>\n",
    "returntype printMaxReturnMin(const std::vector<T>& elems);"
   ]
  },
  {
   "cell_type": "code",
   "execution_count": null,
   "id": "65e66010",
   "metadata": {
    "vscode": {
     "languageId": "plaintext"
    }
   },
   "outputs": [],
   "source": [
    "#include <iostream>\n",
    "#include <vector>\n",
    "\n",
    "// Test of the function on vectors.\n",
    "\n",
    "int main() {\n",
    "    // Test with ints\n",
    "    std::vector<int> intVec{ 4, 7, 2, 9, 1 };\n",
    "    int smallestInt = printMaxReturnMin(intVec);\n",
    "    std::cout << \"smallest int is: \" << smallestInt << std::endl;\n",
    "\n",
    "    // Test with floats\n",
    "    std::vector<float> floatVec{ 3.14f, 1.618f, 2.718f, 0.123f };\n",
    "    float smallestFloat = printMaxReturnMin(floatVec);\n",
    "    std::cout << \"smallest float is: \" << smallestFloat << std::endl;\n",
    "\n",
    "    return 0;\n",
    "}\n"
   ]
  },
  {
   "cell_type": "code",
   "execution_count": null,
   "id": "7aac6eb1",
   "metadata": {
    "vscode": {
     "languageId": "plaintext"
    }
   },
   "outputs": [],
   "source": [
    "main();"
   ]
  },
  {
   "attachments": {},
   "cell_type": "markdown",
   "id": "772666b3",
   "metadata": {},
   "source": [
    "## Nachfragen\n",
    "\n",
    "Warum kann hier nicht weiter eine Referenz auf `min` zurück gegeben werden wie im obigen Fall?"
   ]
  },
  {
   "attachments": {},
   "cell_type": "markdown",
   "id": "b23ae081",
   "metadata": {},
   "source": [
    "## Aufgabe C: Zugriffszeiten auf Container\n",
    "\n",
    "Testen sie nun die Zugriffszeiten auf verschiedene sequentielle Container (`vector`, `list`, `deque`). Machen sie sich dazu auch einmal vertraut, wie diese unterschiedlich umgesetzt sind (siehe [Referenz](https://en.cppreference.com/w/cpp/container) oder [hier in der WWU Übersicht](https://cppvorlesung.wwu.de/lecture/stl/containers.html).)\n",
    "\n",
    "<div class=\"alert alert-warning\">\n",
    "\n",
    "Nutzen sie den Code von oben zur Ermittlung von Laufzeiten und vergleichen sie die drei verschiedenen Typen für:\n",
    "\n",
    "<b>ToDo</b>: \n",
    "\n",
    "* `push_back`: einfügen am Ende des Containers,\n",
    "* `resize`: Größe anpassen,\n",
    "\n",
    "</div>\n",
    "\n",
    "[Hintergrund zur Allokation des Speichers für Vektor.](https://embeddedartistry.com/blog/2017/06/21/an-introduction-to-stdvector/#:~:text=std%3A%3Avector%20typically%20allocates,elements%20are%20added%20or%20removed.)\n",
    "\n",
    "Diese Aufgabe müssen sie direkt im Terminal ausführen. Den Code implementieren sie im Unterordner 3_Aufgaben und dort 3_2_TemplatesContainer. Zum kompilieren und Testen:\n",
    "\n",
    "1. Kompilieren: `g++ -std=c++20 -o contcomp container_comparison.cpp`\n",
    "\n",
    "2. Ausführen: `./contcomp`"
   ]
  },
  {
   "cell_type": "code",
   "execution_count": null,
   "id": "c0968363",
   "metadata": {
    "vscode": {
     "languageId": "plaintext"
    }
   },
   "outputs": [],
   "source": [
    "#include <iostream>\n",
    "#include <ctime>\n",
    "\n",
    "int main() {\n",
    "    int NUM = 10000000;\n",
    "    std::clock_t start = std::clock();\n",
    "\n",
    "    start = std::clock(); \n",
    "    for(int i = 0; i<NUM; ++i) {\n",
    "        // TODO Entsprechende Funktion auf Container testen\n",
    "    };\n",
    "    dt = std::clock() - start;\n",
    "    std::cout << \"TODO Time für TODO \" << float(dt)/CLOCKS_PER_SEC << \" sec\\n\"; \n",
    "}"
   ]
  },
  {
   "attachments": {},
   "cell_type": "markdown",
   "id": "5a24c69b",
   "metadata": {
    "tags": [
     "hide-cell"
    ]
   },
   "source": [
    "## Übersicht Ergebnisse: Verwendung sequentielle Containers -- Übersicht \n",
    "\n",
    "| **Aufgabe**                              | **`std::vector`** | **`std::deque`** | **`std::list`** |\n",
    "|------------------------------------------|-------------------|------------------|-----------------|\n",
    "| Einfügen/entfernen Element vorne        | langsam           | schnell          | schnell         |\n",
    "| Einfügen/entfernen Element hinten       | super schnell     | sehr schnell     | schnell         |\n",
    "| Indizierter Zugriff                      | super schnell     | schnell          | nicht möglich  |\n",
    "| Einfügen/entfernen Element in der Mitte | langsam           | schnell          | sehr schnell    |\n",
    "| Speichernutzung                          | gering            | hoch             | hoch            |\n",
    "| Verbinden (splicing, joining)            | langsam           | sehr langsam     | schnell         |\n",
    "| Stabilität (iterators, concurrency)     | schlecht          | sehr schlecht    | gut             |\n",
    "\n"
   ]
  }
 ],
 "metadata": {
  "kernelspec": {
   "display_name": "C++17",
   "language": "C++17",
   "name": "xcpp17"
  },
  "language_info": {
   "codemirror_mode": "text/x-c++src",
   "file_extension": ".cpp",
   "mimetype": "text/x-c++src",
   "name": "c++",
   "version": "17"
  }
 },
 "nbformat": 4,
 "nbformat_minor": 5
}
