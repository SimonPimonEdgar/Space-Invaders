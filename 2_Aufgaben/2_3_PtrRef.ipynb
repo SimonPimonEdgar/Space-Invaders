{
 "cells": [
  {
   "attachments": {},
   "cell_type": "markdown",
   "id": "efd66d3b",
   "metadata": {},
   "source": [
    "# 2.3 Pointer und Referenzen \n",
    "\n",
    "Im folgenden sollen sie an einem kleinen Beispiel einmal den Einsatz von Referenzen und Pointern einüben und dazu die Anwendung von *call by value* (Übergabe des Wertes als Kopie an eine Funktion) einmal ansehen.\n",
    "\n",
    "Im untenstehenden Code wird eine swap-Funktion definiert.\n",
    "Aufgabe:\n",
    "\n",
    "* Was tut die angegebene Funktion? \n",
    "* Führen sie zwei swap-Funktionen ein, die jeweils die Werte der Variablen tauschen.\n",
    "    * einmal mit Hilfe von Referenzen\n",
    "    * einmal mit Hilfe von Pointern.\n",
    "\n",
    "Als Hilfe: [C++ Referenz](https://cppvorlesung.wwu.de/lecture/language/memory.html)."
   ]
  },
  {
   "cell_type": "code",
   "execution_count": null,
   "id": "0906b810",
   "metadata": {
    "vscode": {
     "languageId": "plaintext"
    }
   },
   "outputs": [],
   "source": [
    "void swap_1(int x, int y)\n",
    "{\n",
    "  int h = x;\n",
    "  x = y; y = h;\n",
    "}"
   ]
  },
  {
   "cell_type": "code",
   "execution_count": null,
   "id": "ae15029c",
   "metadata": {
    "vscode": {
     "languageId": "plaintext"
    }
   },
   "outputs": [],
   "source": [
    "// TODO: zu implementieren\n",
    "void swap_ref(int& x, int& y);"
   ]
  },
  {
   "cell_type": "code",
   "execution_count": null,
   "id": "3f5347a1",
   "metadata": {
    "vscode": {
     "languageId": "plaintext"
    }
   },
   "outputs": [],
   "source": [
    "// TODO: zu implementieren\n",
    "void swap_ptr(int* x, int* y);"
   ]
  },
  {
   "cell_type": "code",
   "execution_count": null,
   "id": "7aac6eb1",
   "metadata": {
    "vscode": {
     "languageId": "plaintext"
    }
   },
   "outputs": [],
   "source": [
    "#include <iostream>\n",
    "\n",
    "int main () {\n",
    "    int a = 42;\n",
    "    int b = 7;\n",
    "    swap_1( a, b );\n",
    "    std::cout << \"Swap 1   = a: \" << a << \" , b: \" << b << std::endl;\n",
    "    // Die folgenden Funktionen muessen noch implementiert werden.\n",
    "    //a = 42; b = 7;\n",
    "    //swap_ref( a, b );\n",
    "    //std::cout << \"Swap Ref = a: \" << a << \" , b: \" << b << std::endl;\n",
    "    //a = 42; b = 7;\n",
    "    //swap_ptr( &a, &b );\n",
    "    //std::cout << \"Swap Ptr = a: \" << a << \" , b: \" << b << std::endl;\n",
    "}"
   ]
  },
  {
   "cell_type": "code",
   "execution_count": null,
   "id": "eb2358a4",
   "metadata": {
    "vscode": {
     "languageId": "plaintext"
    }
   },
   "outputs": [],
   "source": [
    "main()"
   ]
  }
 ],
 "metadata": {
  "kernelspec": {
   "display_name": "C++17",
   "language": "C++17",
   "name": "xcpp17"
  },
  "language_info": {
   "codemirror_mode": "text/x-c++src",
   "file_extension": ".cpp",
   "mimetype": "text/x-c++src",
   "name": "c++",
   "version": "17"
  }
 },
 "nbformat": 4,
 "nbformat_minor": 5
}
