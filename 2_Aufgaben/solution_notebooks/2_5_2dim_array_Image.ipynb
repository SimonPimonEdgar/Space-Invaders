{
 "cells": [
  {
   "attachments": {},
   "cell_type": "markdown",
   "id": "efd66d3b",
   "metadata": {},
   "source": [
    "# 2.5 (Zusatz) 2-dim Array -- Image bearbeiten\n",
    "\n",
    "In der Erweiterung des vorherigen Beispiels wird hier ein Bild in den Speicher geladen wird. Als Nutzer und Programmierer abstrahieren wir ein Bild als zwei-dimensionales Feld von Pixeln (bzw. mehr-dimensional wenn wir vers. Farbwerte betrachten). Im Speicher wird dies aber als ein großer 1-dimensionaler Array angelegt.\n",
    "\n",
    "Im folgenden werden dazu erst mehrere Funktionen als Hilfe eingeführt:\n",
    "\n",
    "* zum speichern eines Bildes als PNG\n",
    "* zum öffnen eines Bildes aus einem BMP Format\n",
    "* zum Anzeigen"
   ]
  },
  {
   "cell_type": "code",
   "execution_count": null,
   "id": "7d0be5d8",
   "metadata": {
    "vscode": {
     "languageId": "plaintext"
    }
   },
   "outputs": [],
   "source": [
    "#define STB_IMAGE_WRITE_IMPLEMENTATION\n",
    "#include \"include/stb_image_write.h\"\n",
    "#include <iostream>\n",
    "#include <fstream>\n",
    "\n",
    "// Function to write a two-dimensional grayscale image to PNG file\n",
    "bool writeGrayscaleImage(const char* filename, unsigned char** image, int width, int height)\n",
    "{\n",
    "    // Open file for writing\n",
    "    FILE* file = fopen(filename, \"wb\");\n",
    "    if (!file)\n",
    "    {\n",
    "        return false;\n",
    "    }\n",
    "\n",
    "    // Create a new buffer to store the image data in PNG format\n",
    "    unsigned char* png_data = new unsigned char[width * height];\n",
    "\n",
    "    // Copy and flip the image data to match PNG format\n",
    "    for (int y = 0; y < height; y++)\n",
    "    {\n",
    "        for (int x = 0; x < width; x++)\n",
    "        {\n",
    "            png_data[(height - 1 - y) * width + x + 100] = image[y][x];\n",
    "        }\n",
    "    }\n",
    "\n",
    "    // Write grayscale image to PNG file\n",
    "    int result = stbi_write_png(filename, width, height, 1, png_data, 0);\n",
    "\n",
    "    // Clean up memory\n",
    "    delete[] png_data;\n",
    "    fclose(file);\n",
    "\n",
    "    return result != 0;\n",
    "}"
   ]
  },
  {
   "cell_type": "code",
   "execution_count": null,
   "id": "da5afa69",
   "metadata": {
    "vscode": {
     "languageId": "plaintext"
    }
   },
   "outputs": [],
   "source": [
    "void loadBMPImage(const char* file_name, unsigned char**& image, int& width, int& height)\n",
    "{\n",
    "    // Open the BMP image file in binary mode\n",
    "    std::ifstream file(file_name, std::ios::binary);\n",
    "\n",
    "    if (!file)\n",
    "    {\n",
    "        std::cout << \"Failed to open \" << file_name << std::endl;\n",
    "        return;\n",
    "    }\n",
    "\n",
    "    // Read the header of the BMP image file (54 bytes)\n",
    "    char header[54];\n",
    "    file.read(header, 54);\n",
    "\n",
    "    // Extract the width and height of the image from the header\n",
    "    width = *(int*)&header[18];\n",
    "    height = *(int*)&header[22];\n",
    "\n",
    "    // Calculate the number of padding bytes per row\n",
    "    int padding = 0;\n",
    "    while ((width + padding) % 4 != 0)\n",
    "    {\n",
    "        padding++;\n",
    "    }\n",
    "\n",
    "    // Calculate the total size of the image data in bytes\n",
    "    int data_size = (width + padding) * height;\n",
    "\n",
    "    // Allocate memory to store the image data\n",
    "    unsigned char* data = new unsigned char[data_size];\n",
    "\n",
    "    // Read the image data from the file into the data buffer\n",
    "    file.read(reinterpret_cast<char*>(data), data_size);\n",
    "\n",
    "    // Close the BMP image file\n",
    "    file.close();\n",
    "\n",
    "    // Create a 2D array to store the image data\n",
    "    image = new unsigned char*[height];\n",
    "    for (int y = 0; y < height; ++y)\n",
    "    {\n",
    "        image[y] = &data[(width + padding) * y];\n",
    "    }\n",
    "}"
   ]
  },
  {
   "attachments": {},
   "cell_type": "markdown",
   "id": "8c2337b6",
   "metadata": {},
   "source": [
    "<div class=\"alert alert-warning\">\n",
    "\n",
    "<b>ToDo</b>: \n",
    "\n",
    "* Implementieren sie eine Funktion, die den mittleren Graustufenwert über dem Bild berechnet. \n",
    "* Im Beispiel ist dies Bild sehr dunkel. Wie können sie dies aufhellen? Erweitern sie den Code entsprechend: Passen sie den Code so an, dass sie die Werte des Bildes im Array sinnvoll aufhellen (den Wertebereich auf das ganze Spektrum für Grauwerte von 0 bis 255 ausdehnen).\n",
    "\n",
    "</div>"
   ]
  },
  {
   "cell_type": "code",
   "execution_count": null,
   "id": "5b473839",
   "metadata": {
    "vscode": {
     "languageId": "plaintext"
    }
   },
   "outputs": [],
   "source": [
    "// Function to calculate the mean grayscale value of an image\n",
    "double calculateMeanGrayscaleValue2d(unsigned char** image, int width, int height)\n",
    "{\n",
    "    double sum = 0.0;\n",
    "    for (int y = 0; y < height; ++y)\n",
    "    {\n",
    "        for (int x = 0; x < width; ++x)\n",
    "        {\n",
    "            sum += image[y][x];\n",
    "        }\n",
    "    }\n",
    "    return sum / (width * height);\n",
    "}"
   ]
  },
  {
   "cell_type": "code",
   "execution_count": null,
   "id": "a0d5b55c",
   "metadata": {
    "vscode": {
     "languageId": "plaintext"
    }
   },
   "outputs": [],
   "source": [
    "int main()\n",
    "{\n",
    "    const char* file_name = \"marie_darkened.bmp\";\n",
    "    unsigned char** image = nullptr;\n",
    "    int width = 0;\n",
    "    int height = 0;\n",
    "\n",
    "    loadBMPImage(file_name, image, width, height);\n",
    "\n",
    "    // Calculate the mean grayscale value of the image\n",
    "    double mean = calculateMeanGrayscaleValue2d(image, width, height);\n",
    "    std::cout << \"Mean grayscale value: \" << mean << std::endl;\n",
    "\n",
    "    // Write the grayscale image to PNG file\n",
    "    const char* filename = \"output.png\";\n",
    "    writeGrayscaleImage(filename, image, width, height);\n",
    "\n",
    "    // Clean up memory\n",
    "    delete[] image[0];\n",
    "    delete[] image;\n",
    "    return 0;\n",
    "}"
   ]
  },
  {
   "attachments": {},
   "cell_type": "markdown",
   "id": "27ec8191",
   "metadata": {},
   "source": [
    "## Anzeige des erzeugten Outputs \n",
    "\n",
    "Im folgenden weiterer Code zur Anzeige des erzeugten PNG Bildes."
   ]
  },
  {
   "cell_type": "code",
   "execution_count": null,
   "id": "cafb470a",
   "metadata": {
    "vscode": {
     "languageId": "plaintext"
    }
   },
   "outputs": [],
   "source": [
    "#include <string>\n",
    "#include <fstream>\n",
    "\n",
    "#include \"nlohmann/json.hpp\"\n",
    "\n",
    "#include \"xtl/xbase64.hpp\"\n",
    "\n",
    "namespace nl = nlohmann;\n",
    "\n",
    "namespace im\n",
    "{\n",
    "    struct image\n",
    "    {   \n",
    "        inline image(const std::string& filename)\n",
    "        {\n",
    "            std::ifstream fin(filename, std::ios::binary);   \n",
    "            m_buffer << fin.rdbuf();\n",
    "        }\n",
    "        \n",
    "        std::stringstream m_buffer;\n",
    "    };\n",
    "    \n",
    "    nl::json mime_bundle_repr(const image& i)\n",
    "    {\n",
    "        auto bundle = nl::json::object();\n",
    "        bundle[\"image/png\"] = xtl::base64encode(i.m_buffer.str());\n",
    "        return bundle;\n",
    "    }\n",
    "}"
   ]
  },
  {
   "cell_type": "code",
   "execution_count": null,
   "id": "f7cc7cca",
   "metadata": {
    "vscode": {
     "languageId": "plaintext"
    }
   },
   "outputs": [],
   "source": [
    "im::image example_im(\"images/output.png\");\n",
    "example_im"
   ]
  }
 ],
 "metadata": {
  "kernelspec": {
   "display_name": "C++17",
   "language": "C++17",
   "name": "xcpp17"
  },
  "language_info": {
   "codemirror_mode": "text/x-c++src",
   "file_extension": ".cpp",
   "mimetype": "text/x-c++src",
   "name": "c++",
   "version": "17"
  }
 },
 "nbformat": 4,
 "nbformat_minor": 5
}
